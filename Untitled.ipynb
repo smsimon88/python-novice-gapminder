{
 "cells": [
  {
   "cell_type": "code",
   "execution_count": 2,
   "metadata": {},
   "outputs": [
    {
     "name": "stdout",
     "output_type": "stream",
     "text": [
      "Writing ./code/test_sys.py\n"
     ]
    }
   ],
   "source": [
    "%%writefile ./code/test_sys.py\n",
    "import sys\n",
    "\n",
    "print('Print the first command line argument', sys.argv[0])\n",
    "for i in sys.argv:\n",
    "    print(i)\n"
   ]
  },
  {
   "cell_type": "code",
   "execution_count": 11,
   "metadata": {},
   "outputs": [
    {
     "name": "stdout",
     "output_type": "stream",
     "text": [
      "Overwriting ./code/my_reading.py\n"
     ]
    }
   ],
   "source": [
    "%%writefile ./code/my_reading.py\n",
    "\n",
    "import sys\n",
    "\n",
    "import numpy as np\n",
    "\n",
    "def compute_mean(data):\n",
    "    #data=np.loadtxt(fname=filename,delimiter=',')\n",
    "    assert isinstance(data, np.ndarray)\n",
    "    mean=np.mean(data)\n",
    "    \n",
    "    print('The compute mean is: ', mean)\n",
    "\n",
    "def compute_max(data):\n",
    "    pass\n",
    "\n",
    "def compute_min(data):\n",
    "    pass\n",
    "\n",
    "def load_data(filename):\n",
    "    data=np.loadtxt(fname=filename,delimiter=',')\n",
    "    assert isinstance(data, np.ndarray)\n",
    "    return data\n",
    "    \n",
    "\n",
    "def main():\n",
    "    \n",
    "    action=sys.argv[1]\n",
    "    \n",
    "    assert action in ['--mean','--max','--min'], 'Invalid action'\n",
    "    \n",
    "    for filename in sys.argv[2:]:\n",
    "        assert isinstance(filename,str)\n",
    "        assert filename.startswith('inflamm')\n",
    "    \n",
    "    for filename in sys.argv[2:]:\n",
    "        \n",
    "        data=load_data(filename)\n",
    "    \n",
    "        if action == '--mean':\n",
    "            result=compute_mean(data)\n",
    "        elif action=='--max':\n",
    "            result=compute_max(data)\n",
    "        elif action =='--min':\n",
    "            result=compute_min(data)\n",
    "\n",
    "\n",
    "if __name__=='__main__':\n",
    "    main()\n",
    "\n",
    "\n"
   ]
  },
  {
   "cell_type": "code",
   "execution_count": null,
   "metadata": {},
   "outputs": [],
   "source": []
  }
 ],
 "metadata": {
  "kernelspec": {
   "display_name": "Python 3",
   "language": "python",
   "name": "python3"
  },
  "language_info": {
   "codemirror_mode": {
    "name": "ipython",
    "version": 3
   },
   "file_extension": ".py",
   "mimetype": "text/x-python",
   "name": "python",
   "nbconvert_exporter": "python",
   "pygments_lexer": "ipython3",
   "version": "3.7.1"
  }
 },
 "nbformat": 4,
 "nbformat_minor": 2
}
