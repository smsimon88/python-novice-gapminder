{
 "cells": [
  {
   "cell_type": "markdown",
   "metadata": {},
   "source": [
    "# A Level-1 Heading\n",
    "\n",
    "*   Use asterisks\n",
    "*   to create\n",
    "*   bullet lists.\n",
    "\n",
    "1.  Use numbers\n",
    "1.  to create\n",
    "1.  numbered lists.\n",
    "\n",
    "*  You can use indents\n",
    "\t*  To create sublists \n",
    "\t*  of the same type\n",
    "*  Or sublists\n",
    "\t1. Of different\n",
    "\t1. types\n",
    "\n",
    "## A Level-2 Heading\n",
    "\n",
    "Line breaks\n",
    "don't matter.\n",
    "\n",
    "But blank lines\n",
    "create new paragraphs.\n",
    "Line breaks don’t matter.\n",
    "\n",
    "But blank lines create new paragraphs.\n",
    "\n",
    "[Create links](http://software-carpentry.org) with `[...](...)`.\n",
    "Or use [named links][data_carpentry].\n",
    "\n",
    "[data_carpentry]: http://datacarpentry.org\n",
    "\n",
    "### A Level-3 Heading\n",
    "\n",
    "$$\n",
    "\\sum_{i=1}^{N} 2^{-i} \\approx 1\n",
    "$$"
   ]
  },
  {
   "cell_type": "code",
   "execution_count": 1,
   "metadata": {},
   "outputs": [
    {
     "data": {
      "text/plain": [
       "3"
      ]
     },
     "execution_count": 1,
     "metadata": {},
     "output_type": "execute_result"
    }
   ],
   "source": [
    "7 * 3\n",
    "2 + 1"
   ]
  },
  {
   "cell_type": "markdown",
   "metadata": {},
   "source": [
    "<div class=\"alert alert-block alert-warning\">\n",
    "    \n",
    "What happens if you write some Python in a `code cell` and then you switch it to a `markdown cell`? For example:\n",
    "\n",
    "</div>"
   ]
  },
  {
   "cell_type": "code",
   "execution_count": null,
   "metadata": {},
   "outputs": [],
   "source": [
    "x = 6 * 7 + 14\n",
    "print(x)"
   ]
  },
  {
   "cell_type": "markdown",
   "metadata": {},
   "source": [
    "First run the cell (with `shift`+`return`), then change the cell to a markdown cell (with `Esc` + `m`) and run it again (still with `shift` + `return`)."
   ]
  },
  {
   "cell_type": "code",
   "execution_count": null,
   "metadata": {},
   "outputs": [],
   "source": []
  }
 ],
 "metadata": {
  "kernelspec": {
   "display_name": "Python 3",
   "language": "python",
   "name": "python3"
  },
  "language_info": {
   "codemirror_mode": {
    "name": "ipython",
    "version": 3
   },
   "file_extension": ".py",
   "mimetype": "text/x-python",
   "name": "python",
   "nbconvert_exporter": "python",
   "pygments_lexer": "ipython3",
   "version": "3.7.1"
  }
 },
 "nbformat": 4,
 "nbformat_minor": 4
}
