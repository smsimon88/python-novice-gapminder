{
 "cells": [
  {
   "cell_type": "code",
   "execution_count": 1,
   "metadata": {},
   "outputs": [
    {
     "data": {
      "text/plain": [
       "3"
      ]
     },
     "execution_count": 1,
     "metadata": {},
     "output_type": "execute_result"
    }
   ],
   "source": [
    "3"
   ]
  },
  {
   "cell_type": "code",
   "execution_count": 3,
   "metadata": {},
   "outputs": [
    {
     "data": {
      "text/plain": [
       "'abc'"
      ]
     },
     "execution_count": 3,
     "metadata": {},
     "output_type": "execute_result"
    }
   ],
   "source": [
    "'abc'"
   ]
  },
  {
   "cell_type": "code",
   "execution_count": 4,
   "metadata": {},
   "outputs": [
    {
     "ename": "NameError",
     "evalue": "name 'abc' is not defined",
     "output_type": "error",
     "traceback": [
      "\u001b[1;31m---------------------------------------------------------------------------\u001b[0m",
      "\u001b[1;31mNameError\u001b[0m                                 Traceback (most recent call last)",
      "\u001b[1;32m<ipython-input-4-03cfd743661f>\u001b[0m in \u001b[0;36m<module>\u001b[1;34m\u001b[0m\n\u001b[1;32m----> 1\u001b[1;33m \u001b[0mabc\u001b[0m\u001b[1;33m\u001b[0m\u001b[1;33m\u001b[0m\u001b[0m\n\u001b[0m",
      "\u001b[1;31mNameError\u001b[0m: name 'abc' is not defined"
     ]
    }
   ],
   "source": [
    "abc"
   ]
  },
  {
   "cell_type": "code",
   "execution_count": 5,
   "metadata": {},
   "outputs": [
    {
     "data": {
      "text/plain": [
       "<function min>"
      ]
     },
     "execution_count": 5,
     "metadata": {},
     "output_type": "execute_result"
    }
   ],
   "source": [
    "min"
   ]
  },
  {
   "cell_type": "code",
   "execution_count": 9,
   "metadata": {},
   "outputs": [],
   "source": [
    "age=22\n",
    "first_name='Ahmed'"
   ]
  },
  {
   "cell_type": "code",
   "execution_count": 10,
   "metadata": {},
   "outputs": [
    {
     "data": {
      "text/plain": [
       "'Ahmed is 22 years old'"
      ]
     },
     "execution_count": 10,
     "metadata": {},
     "output_type": "execute_result"
    }
   ],
   "source": [
    "f'{first_name} is {age} years old'"
   ]
  },
  {
   "cell_type": "code",
   "execution_count": 11,
   "metadata": {},
   "outputs": [
    {
     "name": "stdout",
     "output_type": "stream",
     "text": [
      "Ahmed is 22 years old\n"
     ]
    }
   ],
   "source": [
    "print(first_name,'is',age,'years old')"
   ]
  },
  {
   "cell_type": "code",
   "execution_count": 16,
   "metadata": {},
   "outputs": [],
   "source": [
    "age=age + 3"
   ]
  },
  {
   "cell_type": "code",
   "execution_count": 17,
   "metadata": {},
   "outputs": [
    {
     "data": {
      "text/plain": [
       "28"
      ]
     },
     "execution_count": 17,
     "metadata": {},
     "output_type": "execute_result"
    }
   ],
   "source": [
    "age"
   ]
  },
  {
   "cell_type": "code",
   "execution_count": 18,
   "metadata": {},
   "outputs": [
    {
     "data": {
      "text/plain": [
       "'h'"
      ]
     },
     "execution_count": 18,
     "metadata": {},
     "output_type": "execute_result"
    }
   ],
   "source": [
    "atom_name='helium'\n",
    "atom_name[0]"
   ]
  },
  {
   "cell_type": "code",
   "execution_count": 19,
   "metadata": {},
   "outputs": [
    {
     "data": {
      "text/plain": [
       "'hel'"
      ]
     },
     "execution_count": 19,
     "metadata": {},
     "output_type": "execute_result"
    }
   ],
   "source": [
    "atom_name[0:3]"
   ]
  },
  {
   "cell_type": "code",
   "execution_count": 20,
   "metadata": {},
   "outputs": [
    {
     "data": {
      "text/plain": [
       "'m'"
      ]
     },
     "execution_count": 20,
     "metadata": {},
     "output_type": "execute_result"
    }
   ],
   "source": [
    "atom_name[-1]"
   ]
  },
  {
   "cell_type": "code",
   "execution_count": 21,
   "metadata": {},
   "outputs": [
    {
     "data": {
      "text/plain": [
       "'liu'"
      ]
     },
     "execution_count": 21,
     "metadata": {},
     "output_type": "execute_result"
    }
   ],
   "source": [
    "atom_name[-4:-1]"
   ]
  },
  {
   "cell_type": "code",
   "execution_count": 22,
   "metadata": {},
   "outputs": [
    {
     "data": {
      "text/plain": [
       "'hel'"
      ]
     },
     "execution_count": 22,
     "metadata": {},
     "output_type": "execute_result"
    }
   ],
   "source": [
    "atom_name[:3]"
   ]
  },
  {
   "cell_type": "code",
   "execution_count": 23,
   "metadata": {},
   "outputs": [],
   "source": [
    "Atom_name='hydrogen'"
   ]
  },
  {
   "cell_type": "code",
   "execution_count": 24,
   "metadata": {},
   "outputs": [
    {
     "ename": "NameError",
     "evalue": "name 'atmon_name' is not defined",
     "output_type": "error",
     "traceback": [
      "\u001b[1;31m---------------------------------------------------------------------------\u001b[0m",
      "\u001b[1;31mNameError\u001b[0m                                 Traceback (most recent call last)",
      "\u001b[1;32m<ipython-input-24-b6d101cd36c3>\u001b[0m in \u001b[0;36m<module>\u001b[1;34m\u001b[0m\n\u001b[1;32m----> 1\u001b[1;33m \u001b[0matmon_name\u001b[0m\u001b[1;33m\u001b[0m\u001b[1;33m\u001b[0m\u001b[0m\n\u001b[0m",
      "\u001b[1;31mNameError\u001b[0m: name 'atmon_name' is not defined"
     ]
    }
   ],
   "source": [
    "atmon_name"
   ]
  },
  {
   "cell_type": "code",
   "execution_count": 25,
   "metadata": {},
   "outputs": [
    {
     "data": {
      "text/plain": [
       "'helium'"
      ]
     },
     "execution_count": 25,
     "metadata": {},
     "output_type": "execute_result"
    }
   ],
   "source": [
    "atom_name"
   ]
  },
  {
   "cell_type": "code",
   "execution_count": 26,
   "metadata": {},
   "outputs": [
    {
     "data": {
      "text/plain": [
       "int"
      ]
     },
     "execution_count": 26,
     "metadata": {},
     "output_type": "execute_result"
    }
   ],
   "source": [
    "type(age)"
   ]
  },
  {
   "cell_type": "code",
   "execution_count": 27,
   "metadata": {},
   "outputs": [
    {
     "data": {
      "text/plain": [
       "float"
      ]
     },
     "execution_count": 27,
     "metadata": {},
     "output_type": "execute_result"
    }
   ],
   "source": [
    "type(1.45)"
   ]
  },
  {
   "cell_type": "code",
   "execution_count": 28,
   "metadata": {},
   "outputs": [
    {
     "data": {
      "text/plain": [
       "str"
      ]
     },
     "execution_count": 28,
     "metadata": {},
     "output_type": "execute_result"
    }
   ],
   "source": [
    "type(first_name)"
   ]
  },
  {
   "cell_type": "code",
   "execution_count": 29,
   "metadata": {},
   "outputs": [
    {
     "data": {
      "text/plain": [
       "31"
      ]
     },
     "execution_count": 29,
     "metadata": {},
     "output_type": "execute_result"
    }
   ],
   "source": [
    "age+3"
   ]
  },
  {
   "cell_type": "code",
   "execution_count": 30,
   "metadata": {},
   "outputs": [
    {
     "ename": "TypeError",
     "evalue": "can only concatenate str (not \"int\") to str",
     "output_type": "error",
     "traceback": [
      "\u001b[1;31m---------------------------------------------------------------------------\u001b[0m",
      "\u001b[1;31mTypeError\u001b[0m                                 Traceback (most recent call last)",
      "\u001b[1;32m<ipython-input-30-2670c110f0ec>\u001b[0m in \u001b[0;36m<module>\u001b[1;34m\u001b[0m\n\u001b[1;32m----> 1\u001b[1;33m \u001b[0mfirst_name\u001b[0m \u001b[1;33m+\u001b[0m\u001b[1;36m3\u001b[0m\u001b[1;33m\u001b[0m\u001b[1;33m\u001b[0m\u001b[0m\n\u001b[0m",
      "\u001b[1;31mTypeError\u001b[0m: can only concatenate str (not \"int\") to str"
     ]
    }
   ],
   "source": [
    "first_name +3"
   ]
  },
  {
   "cell_type": "code",
   "execution_count": 31,
   "metadata": {},
   "outputs": [
    {
     "data": {
      "text/plain": [
       "'AhmedABC'"
      ]
     },
     "execution_count": 31,
     "metadata": {},
     "output_type": "execute_result"
    }
   ],
   "source": [
    "first_name + 'ABC'"
   ]
  },
  {
   "cell_type": "code",
   "execution_count": 32,
   "metadata": {},
   "outputs": [],
   "source": [
    "full_name=first_name+'Walsh'"
   ]
  },
  {
   "cell_type": "code",
   "execution_count": 33,
   "metadata": {},
   "outputs": [
    {
     "data": {
      "text/plain": [
       "'AhmedWalsh'"
      ]
     },
     "execution_count": 33,
     "metadata": {},
     "output_type": "execute_result"
    }
   ],
   "source": [
    "full_name"
   ]
  },
  {
   "cell_type": "code",
   "execution_count": 36,
   "metadata": {},
   "outputs": [],
   "source": [
    "full_name=f'{first_name} Walsh'"
   ]
  },
  {
   "cell_type": "code",
   "execution_count": 37,
   "metadata": {},
   "outputs": [
    {
     "data": {
      "text/plain": [
       "'Ahmed Walsh'"
      ]
     },
     "execution_count": 37,
     "metadata": {},
     "output_type": "execute_result"
    }
   ],
   "source": [
    "full_name"
   ]
  },
  {
   "cell_type": "code",
   "execution_count": null,
   "metadata": {},
   "outputs": [],
   "source": []
  },
  {
   "cell_type": "code",
   "execution_count": 38,
   "metadata": {},
   "outputs": [
    {
     "data": {
      "text/plain": [
       "11"
      ]
     },
     "execution_count": 38,
     "metadata": {},
     "output_type": "execute_result"
    }
   ],
   "source": [
    "len(full_name)"
   ]
  },
  {
   "cell_type": "code",
   "execution_count": 39,
   "metadata": {},
   "outputs": [
    {
     "ename": "TypeError",
     "evalue": "object of type 'int' has no len()",
     "output_type": "error",
     "traceback": [
      "\u001b[1;31m---------------------------------------------------------------------------\u001b[0m",
      "\u001b[1;31mTypeError\u001b[0m                                 Traceback (most recent call last)",
      "\u001b[1;32m<ipython-input-39-374401a99246>\u001b[0m in \u001b[0;36m<module>\u001b[1;34m\u001b[0m\n\u001b[1;32m----> 1\u001b[1;33m \u001b[0mlen\u001b[0m\u001b[1;33m(\u001b[0m\u001b[0mage\u001b[0m\u001b[1;33m)\u001b[0m\u001b[1;33m\u001b[0m\u001b[1;33m\u001b[0m\u001b[0m\n\u001b[0m",
      "\u001b[1;31mTypeError\u001b[0m: object of type 'int' has no len()"
     ]
    }
   ],
   "source": [
    "len(age)"
   ]
  },
  {
   "cell_type": "code",
   "execution_count": 40,
   "metadata": {},
   "outputs": [
    {
     "data": {
      "text/plain": [
       "0.5"
      ]
     },
     "execution_count": 40,
     "metadata": {},
     "output_type": "execute_result"
    }
   ],
   "source": [
    "1/2"
   ]
  },
  {
   "cell_type": "code",
   "execution_count": 41,
   "metadata": {},
   "outputs": [
    {
     "data": {
      "text/plain": [
       "float"
      ]
     },
     "execution_count": 41,
     "metadata": {},
     "output_type": "execute_result"
    }
   ],
   "source": [
    "type(1/2)"
   ]
  },
  {
   "cell_type": "code",
   "execution_count": 42,
   "metadata": {},
   "outputs": [
    {
     "data": {
      "text/plain": [
       "0"
      ]
     },
     "execution_count": 42,
     "metadata": {},
     "output_type": "execute_result"
    }
   ],
   "source": [
    "1//2"
   ]
  },
  {
   "cell_type": "code",
   "execution_count": 43,
   "metadata": {},
   "outputs": [
    {
     "data": {
      "text/plain": [
       "9.0"
      ]
     },
     "execution_count": 43,
     "metadata": {},
     "output_type": "execute_result"
    }
   ],
   "source": [
    "3.0**2"
   ]
  },
  {
   "cell_type": "code",
   "execution_count": 44,
   "metadata": {},
   "outputs": [
    {
     "data": {
      "text/plain": [
       "1"
      ]
     },
     "execution_count": 44,
     "metadata": {},
     "output_type": "execute_result"
    }
   ],
   "source": [
    "5//3"
   ]
  },
  {
   "cell_type": "code",
   "execution_count": 45,
   "metadata": {},
   "outputs": [
    {
     "data": {
      "text/plain": [
       "2"
      ]
     },
     "execution_count": 45,
     "metadata": {},
     "output_type": "execute_result"
    }
   ],
   "source": [
    "5%3"
   ]
  },
  {
   "cell_type": "code",
   "execution_count": 46,
   "metadata": {},
   "outputs": [
    {
     "data": {
      "text/plain": [
       "11"
      ]
     },
     "execution_count": 46,
     "metadata": {},
     "output_type": "execute_result"
    }
   ],
   "source": [
    "x=len(full_name)\n",
    "x"
   ]
  },
  {
   "cell_type": "code",
   "execution_count": 47,
   "metadata": {},
   "outputs": [
    {
     "name": "stdout",
     "output_type": "stream",
     "text": [
      "Ahmed Walsh\n"
     ]
    }
   ],
   "source": [
    "x=print(full_name)"
   ]
  },
  {
   "cell_type": "code",
   "execution_count": 48,
   "metadata": {},
   "outputs": [],
   "source": [
    "x"
   ]
  },
  {
   "cell_type": "code",
   "execution_count": 49,
   "metadata": {},
   "outputs": [
    {
     "data": {
      "text/plain": [
       "NoneType"
      ]
     },
     "execution_count": 49,
     "metadata": {},
     "output_type": "execute_result"
    }
   ],
   "source": [
    "type(x)"
   ]
  },
  {
   "cell_type": "code",
   "execution_count": 50,
   "metadata": {},
   "outputs": [
    {
     "data": {
      "text/plain": [
       "-1"
      ]
     },
     "execution_count": 50,
     "metadata": {},
     "output_type": "execute_result"
    }
   ],
   "source": [
    "min(1,2,3,6,-1,2)"
   ]
  },
  {
   "cell_type": "code",
   "execution_count": 51,
   "metadata": {},
   "outputs": [
    {
     "ename": "TypeError",
     "evalue": "'>' not supported between instances of 'str' and 'int'",
     "output_type": "error",
     "traceback": [
      "\u001b[1;31m---------------------------------------------------------------------------\u001b[0m",
      "\u001b[1;31mTypeError\u001b[0m                                 Traceback (most recent call last)",
      "\u001b[1;32m<ipython-input-51-7c1c231b133a>\u001b[0m in \u001b[0;36m<module>\u001b[1;34m\u001b[0m\n\u001b[1;32m----> 1\u001b[1;33m \u001b[0mmax\u001b[0m\u001b[1;33m(\u001b[0m\u001b[1;36m1\u001b[0m\u001b[1;33m,\u001b[0m\u001b[1;34m'a'\u001b[0m\u001b[1;33m)\u001b[0m\u001b[1;33m\u001b[0m\u001b[1;33m\u001b[0m\u001b[0m\n\u001b[0m",
      "\u001b[1;31mTypeError\u001b[0m: '>' not supported between instances of 'str' and 'int'"
     ]
    }
   ],
   "source": [
    "max(1,'a')"
   ]
  },
  {
   "cell_type": "code",
   "execution_count": 57,
   "metadata": {},
   "outputs": [
    {
     "data": {
      "text/plain": [
       "4.0"
      ]
     },
     "execution_count": 57,
     "metadata": {},
     "output_type": "execute_result"
    }
   ],
   "source": [
    "round(3.712,0)"
   ]
  },
  {
   "cell_type": "code",
   "execution_count": 58,
   "metadata": {},
   "outputs": [
    {
     "data": {
      "text/plain": [
       "4"
      ]
     },
     "execution_count": 58,
     "metadata": {},
     "output_type": "execute_result"
    }
   ],
   "source": [
    "round(3.712)\n"
   ]
  },
  {
   "cell_type": "code",
   "execution_count": 60,
   "metadata": {},
   "outputs": [
    {
     "data": {
      "text/plain": [
       "12"
      ]
     },
     "execution_count": 60,
     "metadata": {},
     "output_type": "execute_result"
    }
   ],
   "source": [
    "my_string='Hello world!'\n",
    "len(my_string)"
   ]
  },
  {
   "cell_type": "code",
   "execution_count": 61,
   "metadata": {},
   "outputs": [
    {
     "data": {
      "text/plain": [
       "'hello world!'"
      ]
     },
     "execution_count": 61,
     "metadata": {},
     "output_type": "execute_result"
    }
   ],
   "source": [
    "my_string.lower()"
   ]
  },
  {
   "cell_type": "code",
   "execution_count": 62,
   "metadata": {},
   "outputs": [
    {
     "ename": "SyntaxError",
     "evalue": "EOL while scanning string literal (<ipython-input-62-e9ee744d9dfd>, line 1)",
     "output_type": "error",
     "traceback": [
      "\u001b[1;36m  File \u001b[1;32m\"<ipython-input-62-e9ee744d9dfd>\"\u001b[1;36m, line \u001b[1;32m1\u001b[0m\n\u001b[1;33m    my_string='Hello world!\u001b[0m\n\u001b[1;37m                           ^\u001b[0m\n\u001b[1;31mSyntaxError\u001b[0m\u001b[1;31m:\u001b[0m EOL while scanning string literal\n"
     ]
    }
   ],
   "source": [
    "my_string='Hello world!"
   ]
  },
  {
   "cell_type": "code",
   "execution_count": 63,
   "metadata": {},
   "outputs": [
    {
     "data": {
      "text/plain": [
       "'pi is 3.141592653589793'"
      ]
     },
     "execution_count": 63,
     "metadata": {},
     "output_type": "execute_result"
    }
   ],
   "source": [
    "import math\n",
    "\n",
    "f'pi is {math.pi}'"
   ]
  },
  {
   "cell_type": "code",
   "execution_count": 64,
   "metadata": {},
   "outputs": [
    {
     "data": {
      "text/plain": [
       "-1.0"
      ]
     },
     "execution_count": 64,
     "metadata": {},
     "output_type": "execute_result"
    }
   ],
   "source": [
    "math.cos(math.pi)"
   ]
  },
  {
   "cell_type": "code",
   "execution_count": 65,
   "metadata": {},
   "outputs": [],
   "source": [
    "math.cos()\n"
   ]
  },
  {
   "cell_type": "code",
   "execution_count": 67,
   "metadata": {},
   "outputs": [
    {
     "data": {
      "text/plain": [
       "3.141592653589793"
      ]
     },
     "execution_count": 67,
     "metadata": {},
     "output_type": "execute_result"
    }
   ],
   "source": [
    "import math as m\n",
    "m.pi"
   ]
  },
  {
   "cell_type": "code",
   "execution_count": 68,
   "metadata": {},
   "outputs": [],
   "source": [
    "from math import pi"
   ]
  },
  {
   "cell_type": "code",
   "execution_count": 69,
   "metadata": {},
   "outputs": [
    {
     "data": {
      "text/plain": [
       "3.141592653589793"
      ]
     },
     "execution_count": 69,
     "metadata": {},
     "output_type": "execute_result"
    }
   ],
   "source": [
    "pi"
   ]
  },
  {
   "cell_type": "code",
   "execution_count": 70,
   "metadata": {},
   "outputs": [],
   "source": [
    "from math import pi as p"
   ]
  },
  {
   "cell_type": "code",
   "execution_count": 71,
   "metadata": {},
   "outputs": [
    {
     "data": {
      "text/plain": [
       "3.141592653589793"
      ]
     },
     "execution_count": 71,
     "metadata": {},
     "output_type": "execute_result"
    }
   ],
   "source": [
    "p"
   ]
  },
  {
   "cell_type": "code",
   "execution_count": 72,
   "metadata": {},
   "outputs": [],
   "source": [
    "import random "
   ]
  },
  {
   "cell_type": "code",
   "execution_count": 73,
   "metadata": {},
   "outputs": [],
   "source": [
    "random?\n"
   ]
  },
  {
   "cell_type": "code",
   "execution_count": 74,
   "metadata": {},
   "outputs": [
    {
     "data": {
      "text/html": [
       "<div>\n",
       "<style scoped>\n",
       "    .dataframe tbody tr th:only-of-type {\n",
       "        vertical-align: middle;\n",
       "    }\n",
       "\n",
       "    .dataframe tbody tr th {\n",
       "        vertical-align: top;\n",
       "    }\n",
       "\n",
       "    .dataframe thead th {\n",
       "        text-align: right;\n",
       "    }\n",
       "</style>\n",
       "<table border=\"1\" class=\"dataframe\">\n",
       "  <thead>\n",
       "    <tr style=\"text-align: right;\">\n",
       "      <th></th>\n",
       "      <th>country</th>\n",
       "      <th>gdpPercap_1952</th>\n",
       "      <th>gdpPercap_1957</th>\n",
       "      <th>gdpPercap_1962</th>\n",
       "      <th>gdpPercap_1967</th>\n",
       "      <th>gdpPercap_1972</th>\n",
       "      <th>gdpPercap_1977</th>\n",
       "      <th>gdpPercap_1982</th>\n",
       "      <th>gdpPercap_1987</th>\n",
       "      <th>gdpPercap_1992</th>\n",
       "      <th>gdpPercap_1997</th>\n",
       "      <th>gdpPercap_2002</th>\n",
       "      <th>gdpPercap_2007</th>\n",
       "    </tr>\n",
       "  </thead>\n",
       "  <tbody>\n",
       "    <tr>\n",
       "      <td>0</td>\n",
       "      <td>Australia</td>\n",
       "      <td>10039.59564</td>\n",
       "      <td>10949.64959</td>\n",
       "      <td>12217.22686</td>\n",
       "      <td>14526.12465</td>\n",
       "      <td>16788.62948</td>\n",
       "      <td>18334.19751</td>\n",
       "      <td>19477.00928</td>\n",
       "      <td>21888.88903</td>\n",
       "      <td>23424.76683</td>\n",
       "      <td>26997.93657</td>\n",
       "      <td>30687.75473</td>\n",
       "      <td>34435.36744</td>\n",
       "    </tr>\n",
       "    <tr>\n",
       "      <td>1</td>\n",
       "      <td>New Zealand</td>\n",
       "      <td>10556.57566</td>\n",
       "      <td>12247.39532</td>\n",
       "      <td>13175.67800</td>\n",
       "      <td>14463.91893</td>\n",
       "      <td>16046.03728</td>\n",
       "      <td>16233.71770</td>\n",
       "      <td>17632.41040</td>\n",
       "      <td>19007.19129</td>\n",
       "      <td>18363.32494</td>\n",
       "      <td>21050.41377</td>\n",
       "      <td>23189.80135</td>\n",
       "      <td>25185.00911</td>\n",
       "    </tr>\n",
       "  </tbody>\n",
       "</table>\n",
       "</div>"
      ],
      "text/plain": [
       "       country  gdpPercap_1952  gdpPercap_1957  gdpPercap_1962  \\\n",
       "0    Australia     10039.59564     10949.64959     12217.22686   \n",
       "1  New Zealand     10556.57566     12247.39532     13175.67800   \n",
       "\n",
       "   gdpPercap_1967  gdpPercap_1972  gdpPercap_1977  gdpPercap_1982  \\\n",
       "0     14526.12465     16788.62948     18334.19751     19477.00928   \n",
       "1     14463.91893     16046.03728     16233.71770     17632.41040   \n",
       "\n",
       "   gdpPercap_1987  gdpPercap_1992  gdpPercap_1997  gdpPercap_2002  \\\n",
       "0     21888.88903     23424.76683     26997.93657     30687.75473   \n",
       "1     19007.19129     18363.32494     21050.41377     23189.80135   \n",
       "\n",
       "   gdpPercap_2007  \n",
       "0     34435.36744  \n",
       "1     25185.00911  "
      ]
     },
     "execution_count": 74,
     "metadata": {},
     "output_type": "execute_result"
    }
   ],
   "source": [
    "import pandas as pd\n",
    "\n",
    "data = pd.read_csv('data/gapminder_gdp_oceania.csv')\n",
    "\n",
    "data"
   ]
  },
  {
   "cell_type": "code",
   "execution_count": 77,
   "metadata": {},
   "outputs": [
    {
     "data": {
      "text/plain": [
       "pandas.core.frame.DataFrame"
      ]
     },
     "execution_count": 77,
     "metadata": {},
     "output_type": "execute_result"
    }
   ],
   "source": [
    "type(data)"
   ]
  },
  {
   "cell_type": "code",
   "execution_count": 78,
   "metadata": {},
   "outputs": [
    {
     "data": {
      "text/plain": [
       "country            object\n",
       "gdpPercap_1952    float64\n",
       "gdpPercap_1957    float64\n",
       "gdpPercap_1962    float64\n",
       "gdpPercap_1967    float64\n",
       "gdpPercap_1972    float64\n",
       "gdpPercap_1977    float64\n",
       "gdpPercap_1982    float64\n",
       "gdpPercap_1987    float64\n",
       "gdpPercap_1992    float64\n",
       "gdpPercap_1997    float64\n",
       "gdpPercap_2002    float64\n",
       "gdpPercap_2007    float64\n",
       "dtype: object"
      ]
     },
     "execution_count": 78,
     "metadata": {},
     "output_type": "execute_result"
    }
   ],
   "source": [
    "data.dtypes"
   ]
  },
  {
   "cell_type": "code",
   "execution_count": 79,
   "metadata": {},
   "outputs": [
    {
     "data": {
      "text/plain": [
       "Index(['country', 'gdpPercap_1952', 'gdpPercap_1957', 'gdpPercap_1962',\n",
       "       'gdpPercap_1967', 'gdpPercap_1972', 'gdpPercap_1977', 'gdpPercap_1982',\n",
       "       'gdpPercap_1987', 'gdpPercap_1992', 'gdpPercap_1997', 'gdpPercap_2002',\n",
       "       'gdpPercap_2007'],\n",
       "      dtype='object')"
      ]
     },
     "execution_count": 79,
     "metadata": {},
     "output_type": "execute_result"
    }
   ],
   "source": [
    "data.columns"
   ]
  },
  {
   "cell_type": "code",
   "execution_count": 80,
   "metadata": {},
   "outputs": [
    {
     "data": {
      "text/plain": [
       "RangeIndex(start=0, stop=2, step=1)"
      ]
     },
     "execution_count": 80,
     "metadata": {},
     "output_type": "execute_result"
    }
   ],
   "source": [
    "data.index"
   ]
  },
  {
   "cell_type": "code",
   "execution_count": 81,
   "metadata": {},
   "outputs": [
    {
     "data": {
      "text/html": [
       "<div>\n",
       "<style scoped>\n",
       "    .dataframe tbody tr th:only-of-type {\n",
       "        vertical-align: middle;\n",
       "    }\n",
       "\n",
       "    .dataframe tbody tr th {\n",
       "        vertical-align: top;\n",
       "    }\n",
       "\n",
       "    .dataframe thead th {\n",
       "        text-align: right;\n",
       "    }\n",
       "</style>\n",
       "<table border=\"1\" class=\"dataframe\">\n",
       "  <thead>\n",
       "    <tr style=\"text-align: right;\">\n",
       "      <th></th>\n",
       "      <th>gdpPercap_1952</th>\n",
       "      <th>gdpPercap_1957</th>\n",
       "      <th>gdpPercap_1962</th>\n",
       "      <th>gdpPercap_1967</th>\n",
       "      <th>gdpPercap_1972</th>\n",
       "      <th>gdpPercap_1977</th>\n",
       "      <th>gdpPercap_1982</th>\n",
       "      <th>gdpPercap_1987</th>\n",
       "      <th>gdpPercap_1992</th>\n",
       "      <th>gdpPercap_1997</th>\n",
       "      <th>gdpPercap_2002</th>\n",
       "      <th>gdpPercap_2007</th>\n",
       "    </tr>\n",
       "    <tr>\n",
       "      <th>country</th>\n",
       "      <th></th>\n",
       "      <th></th>\n",
       "      <th></th>\n",
       "      <th></th>\n",
       "      <th></th>\n",
       "      <th></th>\n",
       "      <th></th>\n",
       "      <th></th>\n",
       "      <th></th>\n",
       "      <th></th>\n",
       "      <th></th>\n",
       "      <th></th>\n",
       "    </tr>\n",
       "  </thead>\n",
       "  <tbody>\n",
       "    <tr>\n",
       "      <td>Australia</td>\n",
       "      <td>10039.59564</td>\n",
       "      <td>10949.64959</td>\n",
       "      <td>12217.22686</td>\n",
       "      <td>14526.12465</td>\n",
       "      <td>16788.62948</td>\n",
       "      <td>18334.19751</td>\n",
       "      <td>19477.00928</td>\n",
       "      <td>21888.88903</td>\n",
       "      <td>23424.76683</td>\n",
       "      <td>26997.93657</td>\n",
       "      <td>30687.75473</td>\n",
       "      <td>34435.36744</td>\n",
       "    </tr>\n",
       "    <tr>\n",
       "      <td>New Zealand</td>\n",
       "      <td>10556.57566</td>\n",
       "      <td>12247.39532</td>\n",
       "      <td>13175.67800</td>\n",
       "      <td>14463.91893</td>\n",
       "      <td>16046.03728</td>\n",
       "      <td>16233.71770</td>\n",
       "      <td>17632.41040</td>\n",
       "      <td>19007.19129</td>\n",
       "      <td>18363.32494</td>\n",
       "      <td>21050.41377</td>\n",
       "      <td>23189.80135</td>\n",
       "      <td>25185.00911</td>\n",
       "    </tr>\n",
       "  </tbody>\n",
       "</table>\n",
       "</div>"
      ],
      "text/plain": [
       "             gdpPercap_1952  gdpPercap_1957  gdpPercap_1962  gdpPercap_1967  \\\n",
       "country                                                                       \n",
       "Australia       10039.59564     10949.64959     12217.22686     14526.12465   \n",
       "New Zealand     10556.57566     12247.39532     13175.67800     14463.91893   \n",
       "\n",
       "             gdpPercap_1972  gdpPercap_1977  gdpPercap_1982  gdpPercap_1987  \\\n",
       "country                                                                       \n",
       "Australia       16788.62948     18334.19751     19477.00928     21888.88903   \n",
       "New Zealand     16046.03728     16233.71770     17632.41040     19007.19129   \n",
       "\n",
       "             gdpPercap_1992  gdpPercap_1997  gdpPercap_2002  gdpPercap_2007  \n",
       "country                                                                      \n",
       "Australia       23424.76683     26997.93657     30687.75473     34435.36744  \n",
       "New Zealand     18363.32494     21050.41377     23189.80135     25185.00911  "
      ]
     },
     "execution_count": 81,
     "metadata": {},
     "output_type": "execute_result"
    }
   ],
   "source": [
    "data=pd.read_csv('data/gapminder_gdp_oceania.csv',index_col='country')\n",
    "data"
   ]
  },
  {
   "cell_type": "code",
   "execution_count": 82,
   "metadata": {},
   "outputs": [
    {
     "data": {
      "text/plain": [
       "Index(['Australia', 'New Zealand'], dtype='object', name='country')"
      ]
     },
     "execution_count": 82,
     "metadata": {},
     "output_type": "execute_result"
    }
   ],
   "source": [
    "data.index"
   ]
  },
  {
   "cell_type": "code",
   "execution_count": 83,
   "metadata": {},
   "outputs": [
    {
     "data": {
      "text/html": [
       "<div>\n",
       "<style scoped>\n",
       "    .dataframe tbody tr th:only-of-type {\n",
       "        vertical-align: middle;\n",
       "    }\n",
       "\n",
       "    .dataframe tbody tr th {\n",
       "        vertical-align: top;\n",
       "    }\n",
       "\n",
       "    .dataframe thead th {\n",
       "        text-align: right;\n",
       "    }\n",
       "</style>\n",
       "<table border=\"1\" class=\"dataframe\">\n",
       "  <thead>\n",
       "    <tr style=\"text-align: right;\">\n",
       "      <th></th>\n",
       "      <th>gdpPercap_1952</th>\n",
       "      <th>gdpPercap_1957</th>\n",
       "      <th>gdpPercap_1962</th>\n",
       "      <th>gdpPercap_1967</th>\n",
       "      <th>gdpPercap_1972</th>\n",
       "      <th>gdpPercap_1977</th>\n",
       "      <th>gdpPercap_1982</th>\n",
       "      <th>gdpPercap_1987</th>\n",
       "      <th>gdpPercap_1992</th>\n",
       "      <th>gdpPercap_1997</th>\n",
       "      <th>gdpPercap_2002</th>\n",
       "      <th>gdpPercap_2007</th>\n",
       "    </tr>\n",
       "  </thead>\n",
       "  <tbody>\n",
       "    <tr>\n",
       "      <td>count</td>\n",
       "      <td>2.000000</td>\n",
       "      <td>2.000000</td>\n",
       "      <td>2.000000</td>\n",
       "      <td>2.000000</td>\n",
       "      <td>2.00000</td>\n",
       "      <td>2.000000</td>\n",
       "      <td>2.000000</td>\n",
       "      <td>2.000000</td>\n",
       "      <td>2.000000</td>\n",
       "      <td>2.000000</td>\n",
       "      <td>2.000000</td>\n",
       "      <td>2.000000</td>\n",
       "    </tr>\n",
       "    <tr>\n",
       "      <td>mean</td>\n",
       "      <td>10298.085650</td>\n",
       "      <td>11598.522455</td>\n",
       "      <td>12696.452430</td>\n",
       "      <td>14495.021790</td>\n",
       "      <td>16417.33338</td>\n",
       "      <td>17283.957605</td>\n",
       "      <td>18554.709840</td>\n",
       "      <td>20448.040160</td>\n",
       "      <td>20894.045885</td>\n",
       "      <td>24024.175170</td>\n",
       "      <td>26938.778040</td>\n",
       "      <td>29810.188275</td>\n",
       "    </tr>\n",
       "    <tr>\n",
       "      <td>std</td>\n",
       "      <td>365.560078</td>\n",
       "      <td>917.644806</td>\n",
       "      <td>677.727301</td>\n",
       "      <td>43.986086</td>\n",
       "      <td>525.09198</td>\n",
       "      <td>1485.263517</td>\n",
       "      <td>1304.328377</td>\n",
       "      <td>2037.668013</td>\n",
       "      <td>3578.979883</td>\n",
       "      <td>4205.533703</td>\n",
       "      <td>5301.853680</td>\n",
       "      <td>6540.991104</td>\n",
       "    </tr>\n",
       "    <tr>\n",
       "      <td>min</td>\n",
       "      <td>10039.595640</td>\n",
       "      <td>10949.649590</td>\n",
       "      <td>12217.226860</td>\n",
       "      <td>14463.918930</td>\n",
       "      <td>16046.03728</td>\n",
       "      <td>16233.717700</td>\n",
       "      <td>17632.410400</td>\n",
       "      <td>19007.191290</td>\n",
       "      <td>18363.324940</td>\n",
       "      <td>21050.413770</td>\n",
       "      <td>23189.801350</td>\n",
       "      <td>25185.009110</td>\n",
       "    </tr>\n",
       "    <tr>\n",
       "      <td>25%</td>\n",
       "      <td>10168.840645</td>\n",
       "      <td>11274.086022</td>\n",
       "      <td>12456.839645</td>\n",
       "      <td>14479.470360</td>\n",
       "      <td>16231.68533</td>\n",
       "      <td>16758.837652</td>\n",
       "      <td>18093.560120</td>\n",
       "      <td>19727.615725</td>\n",
       "      <td>19628.685413</td>\n",
       "      <td>22537.294470</td>\n",
       "      <td>25064.289695</td>\n",
       "      <td>27497.598692</td>\n",
       "    </tr>\n",
       "    <tr>\n",
       "      <td>50%</td>\n",
       "      <td>10298.085650</td>\n",
       "      <td>11598.522455</td>\n",
       "      <td>12696.452430</td>\n",
       "      <td>14495.021790</td>\n",
       "      <td>16417.33338</td>\n",
       "      <td>17283.957605</td>\n",
       "      <td>18554.709840</td>\n",
       "      <td>20448.040160</td>\n",
       "      <td>20894.045885</td>\n",
       "      <td>24024.175170</td>\n",
       "      <td>26938.778040</td>\n",
       "      <td>29810.188275</td>\n",
       "    </tr>\n",
       "    <tr>\n",
       "      <td>75%</td>\n",
       "      <td>10427.330655</td>\n",
       "      <td>11922.958888</td>\n",
       "      <td>12936.065215</td>\n",
       "      <td>14510.573220</td>\n",
       "      <td>16602.98143</td>\n",
       "      <td>17809.077557</td>\n",
       "      <td>19015.859560</td>\n",
       "      <td>21168.464595</td>\n",
       "      <td>22159.406358</td>\n",
       "      <td>25511.055870</td>\n",
       "      <td>28813.266385</td>\n",
       "      <td>32122.777857</td>\n",
       "    </tr>\n",
       "    <tr>\n",
       "      <td>max</td>\n",
       "      <td>10556.575660</td>\n",
       "      <td>12247.395320</td>\n",
       "      <td>13175.678000</td>\n",
       "      <td>14526.124650</td>\n",
       "      <td>16788.62948</td>\n",
       "      <td>18334.197510</td>\n",
       "      <td>19477.009280</td>\n",
       "      <td>21888.889030</td>\n",
       "      <td>23424.766830</td>\n",
       "      <td>26997.936570</td>\n",
       "      <td>30687.754730</td>\n",
       "      <td>34435.367440</td>\n",
       "    </tr>\n",
       "  </tbody>\n",
       "</table>\n",
       "</div>"
      ],
      "text/plain": [
       "       gdpPercap_1952  gdpPercap_1957  gdpPercap_1962  gdpPercap_1967  \\\n",
       "count        2.000000        2.000000        2.000000        2.000000   \n",
       "mean     10298.085650    11598.522455    12696.452430    14495.021790   \n",
       "std        365.560078      917.644806      677.727301       43.986086   \n",
       "min      10039.595640    10949.649590    12217.226860    14463.918930   \n",
       "25%      10168.840645    11274.086022    12456.839645    14479.470360   \n",
       "50%      10298.085650    11598.522455    12696.452430    14495.021790   \n",
       "75%      10427.330655    11922.958888    12936.065215    14510.573220   \n",
       "max      10556.575660    12247.395320    13175.678000    14526.124650   \n",
       "\n",
       "       gdpPercap_1972  gdpPercap_1977  gdpPercap_1982  gdpPercap_1987  \\\n",
       "count         2.00000        2.000000        2.000000        2.000000   \n",
       "mean      16417.33338    17283.957605    18554.709840    20448.040160   \n",
       "std         525.09198     1485.263517     1304.328377     2037.668013   \n",
       "min       16046.03728    16233.717700    17632.410400    19007.191290   \n",
       "25%       16231.68533    16758.837652    18093.560120    19727.615725   \n",
       "50%       16417.33338    17283.957605    18554.709840    20448.040160   \n",
       "75%       16602.98143    17809.077557    19015.859560    21168.464595   \n",
       "max       16788.62948    18334.197510    19477.009280    21888.889030   \n",
       "\n",
       "       gdpPercap_1992  gdpPercap_1997  gdpPercap_2002  gdpPercap_2007  \n",
       "count        2.000000        2.000000        2.000000        2.000000  \n",
       "mean     20894.045885    24024.175170    26938.778040    29810.188275  \n",
       "std       3578.979883     4205.533703     5301.853680     6540.991104  \n",
       "min      18363.324940    21050.413770    23189.801350    25185.009110  \n",
       "25%      19628.685413    22537.294470    25064.289695    27497.598692  \n",
       "50%      20894.045885    24024.175170    26938.778040    29810.188275  \n",
       "75%      22159.406358    25511.055870    28813.266385    32122.777857  \n",
       "max      23424.766830    26997.936570    30687.754730    34435.367440  "
      ]
     },
     "execution_count": 83,
     "metadata": {},
     "output_type": "execute_result"
    }
   ],
   "source": [
    "data.describe()"
   ]
  },
  {
   "cell_type": "code",
   "execution_count": 84,
   "metadata": {},
   "outputs": [
    {
     "name": "stdout",
     "output_type": "stream",
     "text": [
      "<class 'pandas.core.frame.DataFrame'>\n",
      "Index: 2 entries, Australia to New Zealand\n",
      "Data columns (total 12 columns):\n",
      "gdpPercap_1952    2 non-null float64\n",
      "gdpPercap_1957    2 non-null float64\n",
      "gdpPercap_1962    2 non-null float64\n",
      "gdpPercap_1967    2 non-null float64\n",
      "gdpPercap_1972    2 non-null float64\n",
      "gdpPercap_1977    2 non-null float64\n",
      "gdpPercap_1982    2 non-null float64\n",
      "gdpPercap_1987    2 non-null float64\n",
      "gdpPercap_1992    2 non-null float64\n",
      "gdpPercap_1997    2 non-null float64\n",
      "gdpPercap_2002    2 non-null float64\n",
      "gdpPercap_2007    2 non-null float64\n",
      "dtypes: float64(12)\n",
      "memory usage: 208.0+ bytes\n"
     ]
    }
   ],
   "source": [
    "data.info()"
   ]
  },
  {
   "cell_type": "code",
   "execution_count": 85,
   "metadata": {},
   "outputs": [
    {
     "data": {
      "text/html": [
       "<div>\n",
       "<style scoped>\n",
       "    .dataframe tbody tr th:only-of-type {\n",
       "        vertical-align: middle;\n",
       "    }\n",
       "\n",
       "    .dataframe tbody tr th {\n",
       "        vertical-align: top;\n",
       "    }\n",
       "\n",
       "    .dataframe thead th {\n",
       "        text-align: right;\n",
       "    }\n",
       "</style>\n",
       "<table border=\"1\" class=\"dataframe\">\n",
       "  <thead>\n",
       "    <tr style=\"text-align: right;\">\n",
       "      <th>country</th>\n",
       "      <th>Australia</th>\n",
       "      <th>New Zealand</th>\n",
       "    </tr>\n",
       "  </thead>\n",
       "  <tbody>\n",
       "    <tr>\n",
       "      <td>gdpPercap_1952</td>\n",
       "      <td>10039.59564</td>\n",
       "      <td>10556.57566</td>\n",
       "    </tr>\n",
       "    <tr>\n",
       "      <td>gdpPercap_1957</td>\n",
       "      <td>10949.64959</td>\n",
       "      <td>12247.39532</td>\n",
       "    </tr>\n",
       "    <tr>\n",
       "      <td>gdpPercap_1962</td>\n",
       "      <td>12217.22686</td>\n",
       "      <td>13175.67800</td>\n",
       "    </tr>\n",
       "    <tr>\n",
       "      <td>gdpPercap_1967</td>\n",
       "      <td>14526.12465</td>\n",
       "      <td>14463.91893</td>\n",
       "    </tr>\n",
       "    <tr>\n",
       "      <td>gdpPercap_1972</td>\n",
       "      <td>16788.62948</td>\n",
       "      <td>16046.03728</td>\n",
       "    </tr>\n",
       "    <tr>\n",
       "      <td>gdpPercap_1977</td>\n",
       "      <td>18334.19751</td>\n",
       "      <td>16233.71770</td>\n",
       "    </tr>\n",
       "    <tr>\n",
       "      <td>gdpPercap_1982</td>\n",
       "      <td>19477.00928</td>\n",
       "      <td>17632.41040</td>\n",
       "    </tr>\n",
       "    <tr>\n",
       "      <td>gdpPercap_1987</td>\n",
       "      <td>21888.88903</td>\n",
       "      <td>19007.19129</td>\n",
       "    </tr>\n",
       "    <tr>\n",
       "      <td>gdpPercap_1992</td>\n",
       "      <td>23424.76683</td>\n",
       "      <td>18363.32494</td>\n",
       "    </tr>\n",
       "    <tr>\n",
       "      <td>gdpPercap_1997</td>\n",
       "      <td>26997.93657</td>\n",
       "      <td>21050.41377</td>\n",
       "    </tr>\n",
       "    <tr>\n",
       "      <td>gdpPercap_2002</td>\n",
       "      <td>30687.75473</td>\n",
       "      <td>23189.80135</td>\n",
       "    </tr>\n",
       "    <tr>\n",
       "      <td>gdpPercap_2007</td>\n",
       "      <td>34435.36744</td>\n",
       "      <td>25185.00911</td>\n",
       "    </tr>\n",
       "  </tbody>\n",
       "</table>\n",
       "</div>"
      ],
      "text/plain": [
       "country           Australia  New Zealand\n",
       "gdpPercap_1952  10039.59564  10556.57566\n",
       "gdpPercap_1957  10949.64959  12247.39532\n",
       "gdpPercap_1962  12217.22686  13175.67800\n",
       "gdpPercap_1967  14526.12465  14463.91893\n",
       "gdpPercap_1972  16788.62948  16046.03728\n",
       "gdpPercap_1977  18334.19751  16233.71770\n",
       "gdpPercap_1982  19477.00928  17632.41040\n",
       "gdpPercap_1987  21888.88903  19007.19129\n",
       "gdpPercap_1992  23424.76683  18363.32494\n",
       "gdpPercap_1997  26997.93657  21050.41377\n",
       "gdpPercap_2002  30687.75473  23189.80135\n",
       "gdpPercap_2007  34435.36744  25185.00911"
      ]
     },
     "execution_count": 85,
     "metadata": {},
     "output_type": "execute_result"
    }
   ],
   "source": [
    "data.T"
   ]
  },
  {
   "cell_type": "code",
   "execution_count": 90,
   "metadata": {},
   "outputs": [
    {
     "name": "stdout",
     "output_type": "stream",
     "text": [
      "<class 'pandas.core.frame.DataFrame'>\n",
      "Index: 30 entries, Albania to United Kingdom\n",
      "Data columns (total 12 columns):\n",
      "gdpPercap_1952    30 non-null float64\n",
      "gdpPercap_1957    30 non-null float64\n",
      "gdpPercap_1962    30 non-null float64\n",
      "gdpPercap_1967    30 non-null float64\n",
      "gdpPercap_1972    30 non-null float64\n",
      "gdpPercap_1977    30 non-null float64\n",
      "gdpPercap_1982    30 non-null float64\n",
      "gdpPercap_1987    30 non-null float64\n",
      "gdpPercap_1992    30 non-null float64\n",
      "gdpPercap_1997    30 non-null float64\n",
      "gdpPercap_2002    30 non-null float64\n",
      "gdpPercap_2007    30 non-null float64\n",
      "dtypes: float64(12)\n",
      "memory usage: 3.0+ KB\n"
     ]
    },
    {
     "data": {
      "text/html": [
       "<div>\n",
       "<style scoped>\n",
       "    .dataframe tbody tr th:only-of-type {\n",
       "        vertical-align: middle;\n",
       "    }\n",
       "\n",
       "    .dataframe tbody tr th {\n",
       "        vertical-align: top;\n",
       "    }\n",
       "\n",
       "    .dataframe thead th {\n",
       "        text-align: right;\n",
       "    }\n",
       "</style>\n",
       "<table border=\"1\" class=\"dataframe\">\n",
       "  <thead>\n",
       "    <tr style=\"text-align: right;\">\n",
       "      <th></th>\n",
       "      <th>gdpPercap_1952</th>\n",
       "      <th>gdpPercap_1957</th>\n",
       "      <th>gdpPercap_1962</th>\n",
       "      <th>gdpPercap_1967</th>\n",
       "      <th>gdpPercap_1972</th>\n",
       "      <th>gdpPercap_1977</th>\n",
       "      <th>gdpPercap_1982</th>\n",
       "      <th>gdpPercap_1987</th>\n",
       "      <th>gdpPercap_1992</th>\n",
       "      <th>gdpPercap_1997</th>\n",
       "      <th>gdpPercap_2002</th>\n",
       "      <th>gdpPercap_2007</th>\n",
       "    </tr>\n",
       "    <tr>\n",
       "      <th>country</th>\n",
       "      <th></th>\n",
       "      <th></th>\n",
       "      <th></th>\n",
       "      <th></th>\n",
       "      <th></th>\n",
       "      <th></th>\n",
       "      <th></th>\n",
       "      <th></th>\n",
       "      <th></th>\n",
       "      <th></th>\n",
       "      <th></th>\n",
       "      <th></th>\n",
       "    </tr>\n",
       "  </thead>\n",
       "  <tbody>\n",
       "    <tr>\n",
       "      <td>Albania</td>\n",
       "      <td>1601.056136</td>\n",
       "      <td>1942.284244</td>\n",
       "      <td>2312.888958</td>\n",
       "      <td>2760.196931</td>\n",
       "      <td>3313.422188</td>\n",
       "      <td>3533.003910</td>\n",
       "      <td>3630.880722</td>\n",
       "      <td>3738.932735</td>\n",
       "      <td>2497.437901</td>\n",
       "      <td>3193.054604</td>\n",
       "      <td>4604.211737</td>\n",
       "      <td>5937.029526</td>\n",
       "    </tr>\n",
       "    <tr>\n",
       "      <td>Austria</td>\n",
       "      <td>6137.076492</td>\n",
       "      <td>8842.598030</td>\n",
       "      <td>10750.721110</td>\n",
       "      <td>12834.602400</td>\n",
       "      <td>16661.625600</td>\n",
       "      <td>19749.422300</td>\n",
       "      <td>21597.083620</td>\n",
       "      <td>23687.826070</td>\n",
       "      <td>27042.018680</td>\n",
       "      <td>29095.920660</td>\n",
       "      <td>32417.607690</td>\n",
       "      <td>36126.492700</td>\n",
       "    </tr>\n",
       "    <tr>\n",
       "      <td>Belgium</td>\n",
       "      <td>8343.105127</td>\n",
       "      <td>9714.960623</td>\n",
       "      <td>10991.206760</td>\n",
       "      <td>13149.041190</td>\n",
       "      <td>16672.143560</td>\n",
       "      <td>19117.974480</td>\n",
       "      <td>20979.845890</td>\n",
       "      <td>22525.563080</td>\n",
       "      <td>25575.570690</td>\n",
       "      <td>27561.196630</td>\n",
       "      <td>30485.883750</td>\n",
       "      <td>33692.605080</td>\n",
       "    </tr>\n",
       "    <tr>\n",
       "      <td>Bosnia and Herzegovina</td>\n",
       "      <td>973.533195</td>\n",
       "      <td>1353.989176</td>\n",
       "      <td>1709.683679</td>\n",
       "      <td>2172.352423</td>\n",
       "      <td>2860.169750</td>\n",
       "      <td>3528.481305</td>\n",
       "      <td>4126.613157</td>\n",
       "      <td>4314.114757</td>\n",
       "      <td>2546.781445</td>\n",
       "      <td>4766.355904</td>\n",
       "      <td>6018.975239</td>\n",
       "      <td>7446.298803</td>\n",
       "    </tr>\n",
       "    <tr>\n",
       "      <td>Bulgaria</td>\n",
       "      <td>2444.286648</td>\n",
       "      <td>3008.670727</td>\n",
       "      <td>4254.337839</td>\n",
       "      <td>5577.002800</td>\n",
       "      <td>6597.494398</td>\n",
       "      <td>7612.240438</td>\n",
       "      <td>8224.191647</td>\n",
       "      <td>8239.854824</td>\n",
       "      <td>6302.623438</td>\n",
       "      <td>5970.388760</td>\n",
       "      <td>7696.777725</td>\n",
       "      <td>10680.792820</td>\n",
       "    </tr>\n",
       "    <tr>\n",
       "      <td>Croatia</td>\n",
       "      <td>3119.236520</td>\n",
       "      <td>4338.231617</td>\n",
       "      <td>5477.890018</td>\n",
       "      <td>6960.297861</td>\n",
       "      <td>9164.090127</td>\n",
       "      <td>11305.385170</td>\n",
       "      <td>13221.821840</td>\n",
       "      <td>13822.583940</td>\n",
       "      <td>8447.794873</td>\n",
       "      <td>9875.604515</td>\n",
       "      <td>11628.388950</td>\n",
       "      <td>14619.222720</td>\n",
       "    </tr>\n",
       "    <tr>\n",
       "      <td>Czech Republic</td>\n",
       "      <td>6876.140250</td>\n",
       "      <td>8256.343918</td>\n",
       "      <td>10136.867130</td>\n",
       "      <td>11399.444890</td>\n",
       "      <td>13108.453600</td>\n",
       "      <td>14800.160620</td>\n",
       "      <td>15377.228550</td>\n",
       "      <td>16310.443400</td>\n",
       "      <td>14297.021220</td>\n",
       "      <td>16048.514240</td>\n",
       "      <td>17596.210220</td>\n",
       "      <td>22833.308510</td>\n",
       "    </tr>\n",
       "    <tr>\n",
       "      <td>Denmark</td>\n",
       "      <td>9692.385245</td>\n",
       "      <td>11099.659350</td>\n",
       "      <td>13583.313510</td>\n",
       "      <td>15937.211230</td>\n",
       "      <td>18866.207210</td>\n",
       "      <td>20422.901500</td>\n",
       "      <td>21688.040480</td>\n",
       "      <td>25116.175810</td>\n",
       "      <td>26406.739850</td>\n",
       "      <td>29804.345670</td>\n",
       "      <td>32166.500060</td>\n",
       "      <td>35278.418740</td>\n",
       "    </tr>\n",
       "    <tr>\n",
       "      <td>Finland</td>\n",
       "      <td>6424.519071</td>\n",
       "      <td>7545.415386</td>\n",
       "      <td>9371.842561</td>\n",
       "      <td>10921.636260</td>\n",
       "      <td>14358.875900</td>\n",
       "      <td>15605.422830</td>\n",
       "      <td>18533.157610</td>\n",
       "      <td>21141.012230</td>\n",
       "      <td>20647.164990</td>\n",
       "      <td>23723.950200</td>\n",
       "      <td>28204.590570</td>\n",
       "      <td>33207.084400</td>\n",
       "    </tr>\n",
       "    <tr>\n",
       "      <td>France</td>\n",
       "      <td>7029.809327</td>\n",
       "      <td>8662.834898</td>\n",
       "      <td>10560.485530</td>\n",
       "      <td>12999.917660</td>\n",
       "      <td>16107.191710</td>\n",
       "      <td>18292.635140</td>\n",
       "      <td>20293.897460</td>\n",
       "      <td>22066.442140</td>\n",
       "      <td>24703.796150</td>\n",
       "      <td>25889.784870</td>\n",
       "      <td>28926.032340</td>\n",
       "      <td>30470.016700</td>\n",
       "    </tr>\n",
       "    <tr>\n",
       "      <td>Germany</td>\n",
       "      <td>7144.114393</td>\n",
       "      <td>10187.826650</td>\n",
       "      <td>12902.462910</td>\n",
       "      <td>14745.625610</td>\n",
       "      <td>18016.180270</td>\n",
       "      <td>20512.921230</td>\n",
       "      <td>22031.532740</td>\n",
       "      <td>24639.185660</td>\n",
       "      <td>26505.303170</td>\n",
       "      <td>27788.884160</td>\n",
       "      <td>30035.801980</td>\n",
       "      <td>32170.374420</td>\n",
       "    </tr>\n",
       "    <tr>\n",
       "      <td>Greece</td>\n",
       "      <td>3530.690067</td>\n",
       "      <td>4916.299889</td>\n",
       "      <td>6017.190733</td>\n",
       "      <td>8513.097016</td>\n",
       "      <td>12724.829570</td>\n",
       "      <td>14195.524280</td>\n",
       "      <td>15268.420890</td>\n",
       "      <td>16120.528390</td>\n",
       "      <td>17541.496340</td>\n",
       "      <td>18747.698140</td>\n",
       "      <td>22514.254800</td>\n",
       "      <td>27538.411880</td>\n",
       "    </tr>\n",
       "    <tr>\n",
       "      <td>Hungary</td>\n",
       "      <td>5263.673816</td>\n",
       "      <td>6040.180011</td>\n",
       "      <td>7550.359877</td>\n",
       "      <td>9326.644670</td>\n",
       "      <td>10168.656110</td>\n",
       "      <td>11674.837370</td>\n",
       "      <td>12545.990660</td>\n",
       "      <td>12986.479980</td>\n",
       "      <td>10535.628550</td>\n",
       "      <td>11712.776800</td>\n",
       "      <td>14843.935560</td>\n",
       "      <td>18008.944440</td>\n",
       "    </tr>\n",
       "    <tr>\n",
       "      <td>Iceland</td>\n",
       "      <td>7267.688428</td>\n",
       "      <td>9244.001412</td>\n",
       "      <td>10350.159060</td>\n",
       "      <td>13319.895680</td>\n",
       "      <td>15798.063620</td>\n",
       "      <td>19654.962470</td>\n",
       "      <td>23269.607500</td>\n",
       "      <td>26923.206280</td>\n",
       "      <td>25144.392010</td>\n",
       "      <td>28061.099660</td>\n",
       "      <td>31163.201960</td>\n",
       "      <td>36180.789190</td>\n",
       "    </tr>\n",
       "    <tr>\n",
       "      <td>Ireland</td>\n",
       "      <td>5210.280328</td>\n",
       "      <td>5599.077872</td>\n",
       "      <td>6631.597314</td>\n",
       "      <td>7655.568963</td>\n",
       "      <td>9530.772896</td>\n",
       "      <td>11150.981130</td>\n",
       "      <td>12618.321410</td>\n",
       "      <td>13872.866520</td>\n",
       "      <td>17558.815550</td>\n",
       "      <td>24521.947130</td>\n",
       "      <td>34077.049390</td>\n",
       "      <td>40675.996350</td>\n",
       "    </tr>\n",
       "    <tr>\n",
       "      <td>Italy</td>\n",
       "      <td>4931.404155</td>\n",
       "      <td>6248.656232</td>\n",
       "      <td>8243.582340</td>\n",
       "      <td>10022.401310</td>\n",
       "      <td>12269.273780</td>\n",
       "      <td>14255.984750</td>\n",
       "      <td>16537.483500</td>\n",
       "      <td>19207.234820</td>\n",
       "      <td>22013.644860</td>\n",
       "      <td>24675.024460</td>\n",
       "      <td>27968.098170</td>\n",
       "      <td>28569.719700</td>\n",
       "    </tr>\n",
       "    <tr>\n",
       "      <td>Montenegro</td>\n",
       "      <td>2647.585601</td>\n",
       "      <td>3682.259903</td>\n",
       "      <td>4649.593785</td>\n",
       "      <td>5907.850937</td>\n",
       "      <td>7778.414017</td>\n",
       "      <td>9595.929905</td>\n",
       "      <td>11222.587620</td>\n",
       "      <td>11732.510170</td>\n",
       "      <td>7003.339037</td>\n",
       "      <td>6465.613349</td>\n",
       "      <td>6557.194282</td>\n",
       "      <td>9253.896111</td>\n",
       "    </tr>\n",
       "    <tr>\n",
       "      <td>Netherlands</td>\n",
       "      <td>8941.571858</td>\n",
       "      <td>11276.193440</td>\n",
       "      <td>12790.849560</td>\n",
       "      <td>15363.251360</td>\n",
       "      <td>18794.745670</td>\n",
       "      <td>21209.059200</td>\n",
       "      <td>21399.460460</td>\n",
       "      <td>23651.323610</td>\n",
       "      <td>26790.949610</td>\n",
       "      <td>30246.130630</td>\n",
       "      <td>33724.757780</td>\n",
       "      <td>36797.933320</td>\n",
       "    </tr>\n",
       "    <tr>\n",
       "      <td>Norway</td>\n",
       "      <td>10095.421720</td>\n",
       "      <td>11653.973040</td>\n",
       "      <td>13450.401510</td>\n",
       "      <td>16361.876470</td>\n",
       "      <td>18965.055510</td>\n",
       "      <td>23311.349390</td>\n",
       "      <td>26298.635310</td>\n",
       "      <td>31540.974800</td>\n",
       "      <td>33965.661150</td>\n",
       "      <td>41283.164330</td>\n",
       "      <td>44683.975250</td>\n",
       "      <td>49357.190170</td>\n",
       "    </tr>\n",
       "    <tr>\n",
       "      <td>Poland</td>\n",
       "      <td>4029.329699</td>\n",
       "      <td>4734.253019</td>\n",
       "      <td>5338.752143</td>\n",
       "      <td>6557.152776</td>\n",
       "      <td>8006.506993</td>\n",
       "      <td>9508.141454</td>\n",
       "      <td>8451.531004</td>\n",
       "      <td>9082.351172</td>\n",
       "      <td>7738.881247</td>\n",
       "      <td>10159.583680</td>\n",
       "      <td>12002.239080</td>\n",
       "      <td>15389.924680</td>\n",
       "    </tr>\n",
       "    <tr>\n",
       "      <td>Portugal</td>\n",
       "      <td>3068.319867</td>\n",
       "      <td>3774.571743</td>\n",
       "      <td>4727.954889</td>\n",
       "      <td>6361.517993</td>\n",
       "      <td>9022.247417</td>\n",
       "      <td>10172.485720</td>\n",
       "      <td>11753.842910</td>\n",
       "      <td>13039.308760</td>\n",
       "      <td>16207.266630</td>\n",
       "      <td>17641.031560</td>\n",
       "      <td>19970.907870</td>\n",
       "      <td>20509.647770</td>\n",
       "    </tr>\n",
       "    <tr>\n",
       "      <td>Romania</td>\n",
       "      <td>3144.613186</td>\n",
       "      <td>3943.370225</td>\n",
       "      <td>4734.997586</td>\n",
       "      <td>6470.866545</td>\n",
       "      <td>8011.414402</td>\n",
       "      <td>9356.397240</td>\n",
       "      <td>9605.314053</td>\n",
       "      <td>9696.273295</td>\n",
       "      <td>6598.409903</td>\n",
       "      <td>7346.547557</td>\n",
       "      <td>7885.360081</td>\n",
       "      <td>10808.475610</td>\n",
       "    </tr>\n",
       "    <tr>\n",
       "      <td>Serbia</td>\n",
       "      <td>3581.459448</td>\n",
       "      <td>4981.090891</td>\n",
       "      <td>6289.629157</td>\n",
       "      <td>7991.707066</td>\n",
       "      <td>10522.067490</td>\n",
       "      <td>12980.669560</td>\n",
       "      <td>15181.092700</td>\n",
       "      <td>15870.878510</td>\n",
       "      <td>9325.068238</td>\n",
       "      <td>7914.320304</td>\n",
       "      <td>7236.075251</td>\n",
       "      <td>9786.534714</td>\n",
       "    </tr>\n",
       "    <tr>\n",
       "      <td>Slovak Republic</td>\n",
       "      <td>5074.659104</td>\n",
       "      <td>6093.262980</td>\n",
       "      <td>7481.107598</td>\n",
       "      <td>8412.902397</td>\n",
       "      <td>9674.167626</td>\n",
       "      <td>10922.664040</td>\n",
       "      <td>11348.545850</td>\n",
       "      <td>12037.267580</td>\n",
       "      <td>9498.467723</td>\n",
       "      <td>12126.230650</td>\n",
       "      <td>13638.778370</td>\n",
       "      <td>18678.314350</td>\n",
       "    </tr>\n",
       "    <tr>\n",
       "      <td>Slovenia</td>\n",
       "      <td>4215.041741</td>\n",
       "      <td>5862.276629</td>\n",
       "      <td>7402.303395</td>\n",
       "      <td>9405.489397</td>\n",
       "      <td>12383.486200</td>\n",
       "      <td>15277.030170</td>\n",
       "      <td>17866.721750</td>\n",
       "      <td>18678.534920</td>\n",
       "      <td>14214.716810</td>\n",
       "      <td>17161.107350</td>\n",
       "      <td>20660.019360</td>\n",
       "      <td>25768.257590</td>\n",
       "    </tr>\n",
       "    <tr>\n",
       "      <td>Spain</td>\n",
       "      <td>3834.034742</td>\n",
       "      <td>4564.802410</td>\n",
       "      <td>5693.843879</td>\n",
       "      <td>7993.512294</td>\n",
       "      <td>10638.751310</td>\n",
       "      <td>13236.921170</td>\n",
       "      <td>13926.169970</td>\n",
       "      <td>15764.983130</td>\n",
       "      <td>18603.064520</td>\n",
       "      <td>20445.298960</td>\n",
       "      <td>24835.471660</td>\n",
       "      <td>28821.063700</td>\n",
       "    </tr>\n",
       "    <tr>\n",
       "      <td>Sweden</td>\n",
       "      <td>8527.844662</td>\n",
       "      <td>9911.878226</td>\n",
       "      <td>12329.441920</td>\n",
       "      <td>15258.296970</td>\n",
       "      <td>17832.024640</td>\n",
       "      <td>18855.725210</td>\n",
       "      <td>20667.381250</td>\n",
       "      <td>23586.929270</td>\n",
       "      <td>23880.016830</td>\n",
       "      <td>25266.594990</td>\n",
       "      <td>29341.630930</td>\n",
       "      <td>33859.748350</td>\n",
       "    </tr>\n",
       "    <tr>\n",
       "      <td>Switzerland</td>\n",
       "      <td>14734.232750</td>\n",
       "      <td>17909.489730</td>\n",
       "      <td>20431.092700</td>\n",
       "      <td>22966.144320</td>\n",
       "      <td>27195.113040</td>\n",
       "      <td>26982.290520</td>\n",
       "      <td>28397.715120</td>\n",
       "      <td>30281.704590</td>\n",
       "      <td>31871.530300</td>\n",
       "      <td>32135.323010</td>\n",
       "      <td>34480.957710</td>\n",
       "      <td>37506.419070</td>\n",
       "    </tr>\n",
       "    <tr>\n",
       "      <td>Turkey</td>\n",
       "      <td>1969.100980</td>\n",
       "      <td>2218.754257</td>\n",
       "      <td>2322.869908</td>\n",
       "      <td>2826.356387</td>\n",
       "      <td>3450.696380</td>\n",
       "      <td>4269.122326</td>\n",
       "      <td>4241.356344</td>\n",
       "      <td>5089.043686</td>\n",
       "      <td>5678.348271</td>\n",
       "      <td>6601.429915</td>\n",
       "      <td>6508.085718</td>\n",
       "      <td>8458.276384</td>\n",
       "    </tr>\n",
       "    <tr>\n",
       "      <td>United Kingdom</td>\n",
       "      <td>9979.508487</td>\n",
       "      <td>11283.177950</td>\n",
       "      <td>12477.177070</td>\n",
       "      <td>14142.850890</td>\n",
       "      <td>15895.116410</td>\n",
       "      <td>17428.748460</td>\n",
       "      <td>18232.424520</td>\n",
       "      <td>21664.787670</td>\n",
       "      <td>22705.092540</td>\n",
       "      <td>26074.531360</td>\n",
       "      <td>29478.999190</td>\n",
       "      <td>33203.261280</td>\n",
       "    </tr>\n",
       "  </tbody>\n",
       "</table>\n",
       "</div>"
      ],
      "text/plain": [
       "                        gdpPercap_1952  gdpPercap_1957  gdpPercap_1962  \\\n",
       "country                                                                  \n",
       "Albania                    1601.056136     1942.284244     2312.888958   \n",
       "Austria                    6137.076492     8842.598030    10750.721110   \n",
       "Belgium                    8343.105127     9714.960623    10991.206760   \n",
       "Bosnia and Herzegovina      973.533195     1353.989176     1709.683679   \n",
       "Bulgaria                   2444.286648     3008.670727     4254.337839   \n",
       "Croatia                    3119.236520     4338.231617     5477.890018   \n",
       "Czech Republic             6876.140250     8256.343918    10136.867130   \n",
       "Denmark                    9692.385245    11099.659350    13583.313510   \n",
       "Finland                    6424.519071     7545.415386     9371.842561   \n",
       "France                     7029.809327     8662.834898    10560.485530   \n",
       "Germany                    7144.114393    10187.826650    12902.462910   \n",
       "Greece                     3530.690067     4916.299889     6017.190733   \n",
       "Hungary                    5263.673816     6040.180011     7550.359877   \n",
       "Iceland                    7267.688428     9244.001412    10350.159060   \n",
       "Ireland                    5210.280328     5599.077872     6631.597314   \n",
       "Italy                      4931.404155     6248.656232     8243.582340   \n",
       "Montenegro                 2647.585601     3682.259903     4649.593785   \n",
       "Netherlands                8941.571858    11276.193440    12790.849560   \n",
       "Norway                    10095.421720    11653.973040    13450.401510   \n",
       "Poland                     4029.329699     4734.253019     5338.752143   \n",
       "Portugal                   3068.319867     3774.571743     4727.954889   \n",
       "Romania                    3144.613186     3943.370225     4734.997586   \n",
       "Serbia                     3581.459448     4981.090891     6289.629157   \n",
       "Slovak Republic            5074.659104     6093.262980     7481.107598   \n",
       "Slovenia                   4215.041741     5862.276629     7402.303395   \n",
       "Spain                      3834.034742     4564.802410     5693.843879   \n",
       "Sweden                     8527.844662     9911.878226    12329.441920   \n",
       "Switzerland               14734.232750    17909.489730    20431.092700   \n",
       "Turkey                     1969.100980     2218.754257     2322.869908   \n",
       "United Kingdom             9979.508487    11283.177950    12477.177070   \n",
       "\n",
       "                        gdpPercap_1967  gdpPercap_1972  gdpPercap_1977  \\\n",
       "country                                                                  \n",
       "Albania                    2760.196931     3313.422188     3533.003910   \n",
       "Austria                   12834.602400    16661.625600    19749.422300   \n",
       "Belgium                   13149.041190    16672.143560    19117.974480   \n",
       "Bosnia and Herzegovina     2172.352423     2860.169750     3528.481305   \n",
       "Bulgaria                   5577.002800     6597.494398     7612.240438   \n",
       "Croatia                    6960.297861     9164.090127    11305.385170   \n",
       "Czech Republic            11399.444890    13108.453600    14800.160620   \n",
       "Denmark                   15937.211230    18866.207210    20422.901500   \n",
       "Finland                   10921.636260    14358.875900    15605.422830   \n",
       "France                    12999.917660    16107.191710    18292.635140   \n",
       "Germany                   14745.625610    18016.180270    20512.921230   \n",
       "Greece                     8513.097016    12724.829570    14195.524280   \n",
       "Hungary                    9326.644670    10168.656110    11674.837370   \n",
       "Iceland                   13319.895680    15798.063620    19654.962470   \n",
       "Ireland                    7655.568963     9530.772896    11150.981130   \n",
       "Italy                     10022.401310    12269.273780    14255.984750   \n",
       "Montenegro                 5907.850937     7778.414017     9595.929905   \n",
       "Netherlands               15363.251360    18794.745670    21209.059200   \n",
       "Norway                    16361.876470    18965.055510    23311.349390   \n",
       "Poland                     6557.152776     8006.506993     9508.141454   \n",
       "Portugal                   6361.517993     9022.247417    10172.485720   \n",
       "Romania                    6470.866545     8011.414402     9356.397240   \n",
       "Serbia                     7991.707066    10522.067490    12980.669560   \n",
       "Slovak Republic            8412.902397     9674.167626    10922.664040   \n",
       "Slovenia                   9405.489397    12383.486200    15277.030170   \n",
       "Spain                      7993.512294    10638.751310    13236.921170   \n",
       "Sweden                    15258.296970    17832.024640    18855.725210   \n",
       "Switzerland               22966.144320    27195.113040    26982.290520   \n",
       "Turkey                     2826.356387     3450.696380     4269.122326   \n",
       "United Kingdom            14142.850890    15895.116410    17428.748460   \n",
       "\n",
       "                        gdpPercap_1982  gdpPercap_1987  gdpPercap_1992  \\\n",
       "country                                                                  \n",
       "Albania                    3630.880722     3738.932735     2497.437901   \n",
       "Austria                   21597.083620    23687.826070    27042.018680   \n",
       "Belgium                   20979.845890    22525.563080    25575.570690   \n",
       "Bosnia and Herzegovina     4126.613157     4314.114757     2546.781445   \n",
       "Bulgaria                   8224.191647     8239.854824     6302.623438   \n",
       "Croatia                   13221.821840    13822.583940     8447.794873   \n",
       "Czech Republic            15377.228550    16310.443400    14297.021220   \n",
       "Denmark                   21688.040480    25116.175810    26406.739850   \n",
       "Finland                   18533.157610    21141.012230    20647.164990   \n",
       "France                    20293.897460    22066.442140    24703.796150   \n",
       "Germany                   22031.532740    24639.185660    26505.303170   \n",
       "Greece                    15268.420890    16120.528390    17541.496340   \n",
       "Hungary                   12545.990660    12986.479980    10535.628550   \n",
       "Iceland                   23269.607500    26923.206280    25144.392010   \n",
       "Ireland                   12618.321410    13872.866520    17558.815550   \n",
       "Italy                     16537.483500    19207.234820    22013.644860   \n",
       "Montenegro                11222.587620    11732.510170     7003.339037   \n",
       "Netherlands               21399.460460    23651.323610    26790.949610   \n",
       "Norway                    26298.635310    31540.974800    33965.661150   \n",
       "Poland                     8451.531004     9082.351172     7738.881247   \n",
       "Portugal                  11753.842910    13039.308760    16207.266630   \n",
       "Romania                    9605.314053     9696.273295     6598.409903   \n",
       "Serbia                    15181.092700    15870.878510     9325.068238   \n",
       "Slovak Republic           11348.545850    12037.267580     9498.467723   \n",
       "Slovenia                  17866.721750    18678.534920    14214.716810   \n",
       "Spain                     13926.169970    15764.983130    18603.064520   \n",
       "Sweden                    20667.381250    23586.929270    23880.016830   \n",
       "Switzerland               28397.715120    30281.704590    31871.530300   \n",
       "Turkey                     4241.356344     5089.043686     5678.348271   \n",
       "United Kingdom            18232.424520    21664.787670    22705.092540   \n",
       "\n",
       "                        gdpPercap_1997  gdpPercap_2002  gdpPercap_2007  \n",
       "country                                                                 \n",
       "Albania                    3193.054604     4604.211737     5937.029526  \n",
       "Austria                   29095.920660    32417.607690    36126.492700  \n",
       "Belgium                   27561.196630    30485.883750    33692.605080  \n",
       "Bosnia and Herzegovina     4766.355904     6018.975239     7446.298803  \n",
       "Bulgaria                   5970.388760     7696.777725    10680.792820  \n",
       "Croatia                    9875.604515    11628.388950    14619.222720  \n",
       "Czech Republic            16048.514240    17596.210220    22833.308510  \n",
       "Denmark                   29804.345670    32166.500060    35278.418740  \n",
       "Finland                   23723.950200    28204.590570    33207.084400  \n",
       "France                    25889.784870    28926.032340    30470.016700  \n",
       "Germany                   27788.884160    30035.801980    32170.374420  \n",
       "Greece                    18747.698140    22514.254800    27538.411880  \n",
       "Hungary                   11712.776800    14843.935560    18008.944440  \n",
       "Iceland                   28061.099660    31163.201960    36180.789190  \n",
       "Ireland                   24521.947130    34077.049390    40675.996350  \n",
       "Italy                     24675.024460    27968.098170    28569.719700  \n",
       "Montenegro                 6465.613349     6557.194282     9253.896111  \n",
       "Netherlands               30246.130630    33724.757780    36797.933320  \n",
       "Norway                    41283.164330    44683.975250    49357.190170  \n",
       "Poland                    10159.583680    12002.239080    15389.924680  \n",
       "Portugal                  17641.031560    19970.907870    20509.647770  \n",
       "Romania                    7346.547557     7885.360081    10808.475610  \n",
       "Serbia                     7914.320304     7236.075251     9786.534714  \n",
       "Slovak Republic           12126.230650    13638.778370    18678.314350  \n",
       "Slovenia                  17161.107350    20660.019360    25768.257590  \n",
       "Spain                     20445.298960    24835.471660    28821.063700  \n",
       "Sweden                    25266.594990    29341.630930    33859.748350  \n",
       "Switzerland               32135.323010    34480.957710    37506.419070  \n",
       "Turkey                     6601.429915     6508.085718     8458.276384  \n",
       "United Kingdom            26074.531360    29478.999190    33203.261280  "
      ]
     },
     "execution_count": 90,
     "metadata": {},
     "output_type": "execute_result"
    }
   ],
   "source": [
    "import pandas as pd\n",
    "\n",
    "data=pd.read_csv('data/gapminder_gdp_europe.csv',index_col='country')\n",
    "df=data.copy()\n",
    "df.info()\n",
    "df"
   ]
  },
  {
   "cell_type": "code",
   "execution_count": 92,
   "metadata": {},
   "outputs": [
    {
     "data": {
      "text/plain": [
       "1601.056136"
      ]
     },
     "execution_count": 92,
     "metadata": {},
     "output_type": "execute_result"
    }
   ],
   "source": [
    "df.loc['Albania','gdpPercap_1952']"
   ]
  },
  {
   "cell_type": "code",
   "execution_count": 93,
   "metadata": {},
   "outputs": [
    {
     "data": {
      "text/plain": [
       "country\n",
       "Albania    1601.056136\n",
       "Austria    6137.076492\n",
       "Belgium    8343.105127\n",
       "Name: gdpPercap_1952, dtype: float64"
      ]
     },
     "execution_count": 93,
     "metadata": {},
     "output_type": "execute_result"
    }
   ],
   "source": [
    "df.loc['Albania':'Belgium','gdpPercap_1952']"
   ]
  },
  {
   "cell_type": "code",
   "execution_count": 94,
   "metadata": {},
   "outputs": [
    {
     "data": {
      "text/plain": [
       "country\n",
       "Albania    1601.056136\n",
       "Austria    6137.076492\n",
       "Belgium    8343.105127\n",
       "Name: gdpPercap_1952, dtype: float64"
      ]
     },
     "execution_count": 94,
     "metadata": {},
     "output_type": "execute_result"
    }
   ],
   "source": [
    "df.iloc[0:3,0]"
   ]
  },
  {
   "cell_type": "code",
   "execution_count": 95,
   "metadata": {},
   "outputs": [
    {
     "data": {
      "text/html": [
       "<div>\n",
       "<style scoped>\n",
       "    .dataframe tbody tr th:only-of-type {\n",
       "        vertical-align: middle;\n",
       "    }\n",
       "\n",
       "    .dataframe tbody tr th {\n",
       "        vertical-align: top;\n",
       "    }\n",
       "\n",
       "    .dataframe thead th {\n",
       "        text-align: right;\n",
       "    }\n",
       "</style>\n",
       "<table border=\"1\" class=\"dataframe\">\n",
       "  <thead>\n",
       "    <tr style=\"text-align: right;\">\n",
       "      <th></th>\n",
       "      <th>gdpPercap_1962</th>\n",
       "      <th>gdpPercap_1967</th>\n",
       "      <th>gdpPercap_1972</th>\n",
       "    </tr>\n",
       "    <tr>\n",
       "      <th>country</th>\n",
       "      <th></th>\n",
       "      <th></th>\n",
       "      <th></th>\n",
       "    </tr>\n",
       "  </thead>\n",
       "  <tbody>\n",
       "    <tr>\n",
       "      <td>Italy</td>\n",
       "      <td>8243.582340</td>\n",
       "      <td>10022.401310</td>\n",
       "      <td>12269.273780</td>\n",
       "    </tr>\n",
       "    <tr>\n",
       "      <td>Montenegro</td>\n",
       "      <td>4649.593785</td>\n",
       "      <td>5907.850937</td>\n",
       "      <td>7778.414017</td>\n",
       "    </tr>\n",
       "    <tr>\n",
       "      <td>Netherlands</td>\n",
       "      <td>12790.849560</td>\n",
       "      <td>15363.251360</td>\n",
       "      <td>18794.745670</td>\n",
       "    </tr>\n",
       "    <tr>\n",
       "      <td>Norway</td>\n",
       "      <td>13450.401510</td>\n",
       "      <td>16361.876470</td>\n",
       "      <td>18965.055510</td>\n",
       "    </tr>\n",
       "    <tr>\n",
       "      <td>Poland</td>\n",
       "      <td>5338.752143</td>\n",
       "      <td>6557.152776</td>\n",
       "      <td>8006.506993</td>\n",
       "    </tr>\n",
       "  </tbody>\n",
       "</table>\n",
       "</div>"
      ],
      "text/plain": [
       "             gdpPercap_1962  gdpPercap_1967  gdpPercap_1972\n",
       "country                                                    \n",
       "Italy           8243.582340    10022.401310    12269.273780\n",
       "Montenegro      4649.593785     5907.850937     7778.414017\n",
       "Netherlands    12790.849560    15363.251360    18794.745670\n",
       "Norway         13450.401510    16361.876470    18965.055510\n",
       "Poland          5338.752143     6557.152776     8006.506993"
      ]
     },
     "execution_count": 95,
     "metadata": {},
     "output_type": "execute_result"
    }
   ],
   "source": [
    "df=df.loc['Italy':'Poland','gdpPercap_1962':'gdpPercap_1972']\n",
    "df"
   ]
  },
  {
   "cell_type": "code",
   "execution_count": 97,
   "metadata": {},
   "outputs": [],
   "source": [
    "mask=df >10000"
   ]
  },
  {
   "cell_type": "code",
   "execution_count": 98,
   "metadata": {},
   "outputs": [
    {
     "data": {
      "text/html": [
       "<div>\n",
       "<style scoped>\n",
       "    .dataframe tbody tr th:only-of-type {\n",
       "        vertical-align: middle;\n",
       "    }\n",
       "\n",
       "    .dataframe tbody tr th {\n",
       "        vertical-align: top;\n",
       "    }\n",
       "\n",
       "    .dataframe thead th {\n",
       "        text-align: right;\n",
       "    }\n",
       "</style>\n",
       "<table border=\"1\" class=\"dataframe\">\n",
       "  <thead>\n",
       "    <tr style=\"text-align: right;\">\n",
       "      <th></th>\n",
       "      <th>gdpPercap_1962</th>\n",
       "      <th>gdpPercap_1967</th>\n",
       "      <th>gdpPercap_1972</th>\n",
       "    </tr>\n",
       "    <tr>\n",
       "      <th>country</th>\n",
       "      <th></th>\n",
       "      <th></th>\n",
       "      <th></th>\n",
       "    </tr>\n",
       "  </thead>\n",
       "  <tbody>\n",
       "    <tr>\n",
       "      <td>Italy</td>\n",
       "      <td>NaN</td>\n",
       "      <td>10022.40131</td>\n",
       "      <td>12269.27378</td>\n",
       "    </tr>\n",
       "    <tr>\n",
       "      <td>Montenegro</td>\n",
       "      <td>NaN</td>\n",
       "      <td>NaN</td>\n",
       "      <td>NaN</td>\n",
       "    </tr>\n",
       "    <tr>\n",
       "      <td>Netherlands</td>\n",
       "      <td>12790.84956</td>\n",
       "      <td>15363.25136</td>\n",
       "      <td>18794.74567</td>\n",
       "    </tr>\n",
       "    <tr>\n",
       "      <td>Norway</td>\n",
       "      <td>13450.40151</td>\n",
       "      <td>16361.87647</td>\n",
       "      <td>18965.05551</td>\n",
       "    </tr>\n",
       "    <tr>\n",
       "      <td>Poland</td>\n",
       "      <td>NaN</td>\n",
       "      <td>NaN</td>\n",
       "      <td>NaN</td>\n",
       "    </tr>\n",
       "  </tbody>\n",
       "</table>\n",
       "</div>"
      ],
      "text/plain": [
       "             gdpPercap_1962  gdpPercap_1967  gdpPercap_1972\n",
       "country                                                    \n",
       "Italy                   NaN     10022.40131     12269.27378\n",
       "Montenegro              NaN             NaN             NaN\n",
       "Netherlands     12790.84956     15363.25136     18794.74567\n",
       "Norway          13450.40151     16361.87647     18965.05551\n",
       "Poland                  NaN             NaN             NaN"
      ]
     },
     "execution_count": 98,
     "metadata": {},
     "output_type": "execute_result"
    }
   ],
   "source": [
    "df[mask]"
   ]
  },
  {
   "cell_type": "code",
   "execution_count": 99,
   "metadata": {},
   "outputs": [
    {
     "data": {
      "text/html": [
       "<div>\n",
       "<style scoped>\n",
       "    .dataframe tbody tr th:only-of-type {\n",
       "        vertical-align: middle;\n",
       "    }\n",
       "\n",
       "    .dataframe tbody tr th {\n",
       "        vertical-align: top;\n",
       "    }\n",
       "\n",
       "    .dataframe thead th {\n",
       "        text-align: right;\n",
       "    }\n",
       "</style>\n",
       "<table border=\"1\" class=\"dataframe\">\n",
       "  <thead>\n",
       "    <tr style=\"text-align: right;\">\n",
       "      <th></th>\n",
       "      <th>gdpPercap_1962</th>\n",
       "      <th>gdpPercap_1967</th>\n",
       "      <th>gdpPercap_1972</th>\n",
       "    </tr>\n",
       "  </thead>\n",
       "  <tbody>\n",
       "    <tr>\n",
       "      <td>count</td>\n",
       "      <td>2.000000</td>\n",
       "      <td>3.000000</td>\n",
       "      <td>3.000000</td>\n",
       "    </tr>\n",
       "    <tr>\n",
       "      <td>mean</td>\n",
       "      <td>13120.625535</td>\n",
       "      <td>13915.843047</td>\n",
       "      <td>16676.358320</td>\n",
       "    </tr>\n",
       "    <tr>\n",
       "      <td>std</td>\n",
       "      <td>466.373656</td>\n",
       "      <td>3408.589070</td>\n",
       "      <td>3817.597015</td>\n",
       "    </tr>\n",
       "    <tr>\n",
       "      <td>min</td>\n",
       "      <td>12790.849560</td>\n",
       "      <td>10022.401310</td>\n",
       "      <td>12269.273780</td>\n",
       "    </tr>\n",
       "    <tr>\n",
       "      <td>25%</td>\n",
       "      <td>12955.737547</td>\n",
       "      <td>12692.826335</td>\n",
       "      <td>15532.009725</td>\n",
       "    </tr>\n",
       "    <tr>\n",
       "      <td>50%</td>\n",
       "      <td>13120.625535</td>\n",
       "      <td>15363.251360</td>\n",
       "      <td>18794.745670</td>\n",
       "    </tr>\n",
       "    <tr>\n",
       "      <td>75%</td>\n",
       "      <td>13285.513523</td>\n",
       "      <td>15862.563915</td>\n",
       "      <td>18879.900590</td>\n",
       "    </tr>\n",
       "    <tr>\n",
       "      <td>max</td>\n",
       "      <td>13450.401510</td>\n",
       "      <td>16361.876470</td>\n",
       "      <td>18965.055510</td>\n",
       "    </tr>\n",
       "  </tbody>\n",
       "</table>\n",
       "</div>"
      ],
      "text/plain": [
       "       gdpPercap_1962  gdpPercap_1967  gdpPercap_1972\n",
       "count        2.000000        3.000000        3.000000\n",
       "mean     13120.625535    13915.843047    16676.358320\n",
       "std        466.373656     3408.589070     3817.597015\n",
       "min      12790.849560    10022.401310    12269.273780\n",
       "25%      12955.737547    12692.826335    15532.009725\n",
       "50%      13120.625535    15363.251360    18794.745670\n",
       "75%      13285.513523    15862.563915    18879.900590\n",
       "max      13450.401510    16361.876470    18965.055510"
      ]
     },
     "execution_count": 99,
     "metadata": {},
     "output_type": "execute_result"
    }
   ],
   "source": [
    "df=df[mask]\n",
    "df.describe()"
   ]
  },
  {
   "cell_type": "code",
   "execution_count": 100,
   "metadata": {
    "collapsed": true
   },
   "outputs": [
    {
     "data": {
      "text/html": [
       "<div>\n",
       "<style scoped>\n",
       "    .dataframe tbody tr th:only-of-type {\n",
       "        vertical-align: middle;\n",
       "    }\n",
       "\n",
       "    .dataframe tbody tr th {\n",
       "        vertical-align: top;\n",
       "    }\n",
       "\n",
       "    .dataframe thead th {\n",
       "        text-align: right;\n",
       "    }\n",
       "</style>\n",
       "<table border=\"1\" class=\"dataframe\">\n",
       "  <thead>\n",
       "    <tr style=\"text-align: right;\">\n",
       "      <th></th>\n",
       "      <th>gdpPercap_1952</th>\n",
       "      <th>gdpPercap_1957</th>\n",
       "      <th>gdpPercap_1962</th>\n",
       "      <th>gdpPercap_1967</th>\n",
       "      <th>gdpPercap_1972</th>\n",
       "      <th>gdpPercap_1977</th>\n",
       "      <th>gdpPercap_1982</th>\n",
       "      <th>gdpPercap_1987</th>\n",
       "      <th>gdpPercap_1992</th>\n",
       "      <th>gdpPercap_1997</th>\n",
       "      <th>gdpPercap_2002</th>\n",
       "      <th>gdpPercap_2007</th>\n",
       "    </tr>\n",
       "    <tr>\n",
       "      <th>country</th>\n",
       "      <th></th>\n",
       "      <th></th>\n",
       "      <th></th>\n",
       "      <th></th>\n",
       "      <th></th>\n",
       "      <th></th>\n",
       "      <th></th>\n",
       "      <th></th>\n",
       "      <th></th>\n",
       "      <th></th>\n",
       "      <th></th>\n",
       "      <th></th>\n",
       "    </tr>\n",
       "  </thead>\n",
       "  <tbody>\n",
       "    <tr>\n",
       "      <td>Albania</td>\n",
       "      <td>False</td>\n",
       "      <td>False</td>\n",
       "      <td>False</td>\n",
       "      <td>False</td>\n",
       "      <td>False</td>\n",
       "      <td>False</td>\n",
       "      <td>False</td>\n",
       "      <td>False</td>\n",
       "      <td>False</td>\n",
       "      <td>False</td>\n",
       "      <td>False</td>\n",
       "      <td>False</td>\n",
       "    </tr>\n",
       "    <tr>\n",
       "      <td>Austria</td>\n",
       "      <td>True</td>\n",
       "      <td>True</td>\n",
       "      <td>True</td>\n",
       "      <td>True</td>\n",
       "      <td>True</td>\n",
       "      <td>True</td>\n",
       "      <td>True</td>\n",
       "      <td>True</td>\n",
       "      <td>True</td>\n",
       "      <td>True</td>\n",
       "      <td>True</td>\n",
       "      <td>True</td>\n",
       "    </tr>\n",
       "    <tr>\n",
       "      <td>Belgium</td>\n",
       "      <td>True</td>\n",
       "      <td>True</td>\n",
       "      <td>True</td>\n",
       "      <td>True</td>\n",
       "      <td>True</td>\n",
       "      <td>True</td>\n",
       "      <td>True</td>\n",
       "      <td>True</td>\n",
       "      <td>True</td>\n",
       "      <td>True</td>\n",
       "      <td>True</td>\n",
       "      <td>True</td>\n",
       "    </tr>\n",
       "    <tr>\n",
       "      <td>Bosnia and Herzegovina</td>\n",
       "      <td>False</td>\n",
       "      <td>False</td>\n",
       "      <td>False</td>\n",
       "      <td>False</td>\n",
       "      <td>False</td>\n",
       "      <td>False</td>\n",
       "      <td>False</td>\n",
       "      <td>False</td>\n",
       "      <td>False</td>\n",
       "      <td>False</td>\n",
       "      <td>False</td>\n",
       "      <td>False</td>\n",
       "    </tr>\n",
       "    <tr>\n",
       "      <td>Bulgaria</td>\n",
       "      <td>False</td>\n",
       "      <td>False</td>\n",
       "      <td>False</td>\n",
       "      <td>False</td>\n",
       "      <td>False</td>\n",
       "      <td>False</td>\n",
       "      <td>False</td>\n",
       "      <td>False</td>\n",
       "      <td>False</td>\n",
       "      <td>False</td>\n",
       "      <td>False</td>\n",
       "      <td>False</td>\n",
       "    </tr>\n",
       "    <tr>\n",
       "      <td>Croatia</td>\n",
       "      <td>False</td>\n",
       "      <td>False</td>\n",
       "      <td>False</td>\n",
       "      <td>False</td>\n",
       "      <td>False</td>\n",
       "      <td>False</td>\n",
       "      <td>False</td>\n",
       "      <td>False</td>\n",
       "      <td>False</td>\n",
       "      <td>False</td>\n",
       "      <td>False</td>\n",
       "      <td>False</td>\n",
       "    </tr>\n",
       "    <tr>\n",
       "      <td>Czech Republic</td>\n",
       "      <td>True</td>\n",
       "      <td>True</td>\n",
       "      <td>True</td>\n",
       "      <td>True</td>\n",
       "      <td>True</td>\n",
       "      <td>True</td>\n",
       "      <td>False</td>\n",
       "      <td>False</td>\n",
       "      <td>False</td>\n",
       "      <td>False</td>\n",
       "      <td>False</td>\n",
       "      <td>False</td>\n",
       "    </tr>\n",
       "    <tr>\n",
       "      <td>Denmark</td>\n",
       "      <td>True</td>\n",
       "      <td>True</td>\n",
       "      <td>True</td>\n",
       "      <td>True</td>\n",
       "      <td>True</td>\n",
       "      <td>True</td>\n",
       "      <td>True</td>\n",
       "      <td>True</td>\n",
       "      <td>True</td>\n",
       "      <td>True</td>\n",
       "      <td>True</td>\n",
       "      <td>True</td>\n",
       "    </tr>\n",
       "    <tr>\n",
       "      <td>Finland</td>\n",
       "      <td>True</td>\n",
       "      <td>True</td>\n",
       "      <td>True</td>\n",
       "      <td>True</td>\n",
       "      <td>True</td>\n",
       "      <td>True</td>\n",
       "      <td>True</td>\n",
       "      <td>True</td>\n",
       "      <td>True</td>\n",
       "      <td>True</td>\n",
       "      <td>True</td>\n",
       "      <td>True</td>\n",
       "    </tr>\n",
       "    <tr>\n",
       "      <td>France</td>\n",
       "      <td>True</td>\n",
       "      <td>True</td>\n",
       "      <td>True</td>\n",
       "      <td>True</td>\n",
       "      <td>True</td>\n",
       "      <td>True</td>\n",
       "      <td>True</td>\n",
       "      <td>True</td>\n",
       "      <td>True</td>\n",
       "      <td>True</td>\n",
       "      <td>True</td>\n",
       "      <td>True</td>\n",
       "    </tr>\n",
       "    <tr>\n",
       "      <td>Germany</td>\n",
       "      <td>True</td>\n",
       "      <td>True</td>\n",
       "      <td>True</td>\n",
       "      <td>True</td>\n",
       "      <td>True</td>\n",
       "      <td>True</td>\n",
       "      <td>True</td>\n",
       "      <td>True</td>\n",
       "      <td>True</td>\n",
       "      <td>True</td>\n",
       "      <td>True</td>\n",
       "      <td>True</td>\n",
       "    </tr>\n",
       "    <tr>\n",
       "      <td>Greece</td>\n",
       "      <td>False</td>\n",
       "      <td>False</td>\n",
       "      <td>False</td>\n",
       "      <td>False</td>\n",
       "      <td>True</td>\n",
       "      <td>False</td>\n",
       "      <td>False</td>\n",
       "      <td>False</td>\n",
       "      <td>True</td>\n",
       "      <td>False</td>\n",
       "      <td>True</td>\n",
       "      <td>True</td>\n",
       "    </tr>\n",
       "    <tr>\n",
       "      <td>Hungary</td>\n",
       "      <td>False</td>\n",
       "      <td>False</td>\n",
       "      <td>False</td>\n",
       "      <td>False</td>\n",
       "      <td>False</td>\n",
       "      <td>False</td>\n",
       "      <td>False</td>\n",
       "      <td>False</td>\n",
       "      <td>False</td>\n",
       "      <td>False</td>\n",
       "      <td>False</td>\n",
       "      <td>False</td>\n",
       "    </tr>\n",
       "    <tr>\n",
       "      <td>Iceland</td>\n",
       "      <td>True</td>\n",
       "      <td>True</td>\n",
       "      <td>True</td>\n",
       "      <td>True</td>\n",
       "      <td>True</td>\n",
       "      <td>True</td>\n",
       "      <td>True</td>\n",
       "      <td>True</td>\n",
       "      <td>True</td>\n",
       "      <td>True</td>\n",
       "      <td>True</td>\n",
       "      <td>True</td>\n",
       "    </tr>\n",
       "    <tr>\n",
       "      <td>Ireland</td>\n",
       "      <td>False</td>\n",
       "      <td>False</td>\n",
       "      <td>False</td>\n",
       "      <td>False</td>\n",
       "      <td>False</td>\n",
       "      <td>False</td>\n",
       "      <td>False</td>\n",
       "      <td>False</td>\n",
       "      <td>True</td>\n",
       "      <td>True</td>\n",
       "      <td>True</td>\n",
       "      <td>True</td>\n",
       "    </tr>\n",
       "    <tr>\n",
       "      <td>Italy</td>\n",
       "      <td>False</td>\n",
       "      <td>False</td>\n",
       "      <td>False</td>\n",
       "      <td>False</td>\n",
       "      <td>False</td>\n",
       "      <td>False</td>\n",
       "      <td>True</td>\n",
       "      <td>True</td>\n",
       "      <td>True</td>\n",
       "      <td>True</td>\n",
       "      <td>True</td>\n",
       "      <td>True</td>\n",
       "    </tr>\n",
       "    <tr>\n",
       "      <td>Montenegro</td>\n",
       "      <td>False</td>\n",
       "      <td>False</td>\n",
       "      <td>False</td>\n",
       "      <td>False</td>\n",
       "      <td>False</td>\n",
       "      <td>False</td>\n",
       "      <td>False</td>\n",
       "      <td>False</td>\n",
       "      <td>False</td>\n",
       "      <td>False</td>\n",
       "      <td>False</td>\n",
       "      <td>False</td>\n",
       "    </tr>\n",
       "    <tr>\n",
       "      <td>Netherlands</td>\n",
       "      <td>True</td>\n",
       "      <td>True</td>\n",
       "      <td>True</td>\n",
       "      <td>True</td>\n",
       "      <td>True</td>\n",
       "      <td>True</td>\n",
       "      <td>True</td>\n",
       "      <td>True</td>\n",
       "      <td>True</td>\n",
       "      <td>True</td>\n",
       "      <td>True</td>\n",
       "      <td>True</td>\n",
       "    </tr>\n",
       "    <tr>\n",
       "      <td>Norway</td>\n",
       "      <td>True</td>\n",
       "      <td>True</td>\n",
       "      <td>True</td>\n",
       "      <td>True</td>\n",
       "      <td>True</td>\n",
       "      <td>True</td>\n",
       "      <td>True</td>\n",
       "      <td>True</td>\n",
       "      <td>True</td>\n",
       "      <td>True</td>\n",
       "      <td>True</td>\n",
       "      <td>True</td>\n",
       "    </tr>\n",
       "    <tr>\n",
       "      <td>Poland</td>\n",
       "      <td>False</td>\n",
       "      <td>False</td>\n",
       "      <td>False</td>\n",
       "      <td>False</td>\n",
       "      <td>False</td>\n",
       "      <td>False</td>\n",
       "      <td>False</td>\n",
       "      <td>False</td>\n",
       "      <td>False</td>\n",
       "      <td>False</td>\n",
       "      <td>False</td>\n",
       "      <td>False</td>\n",
       "    </tr>\n",
       "    <tr>\n",
       "      <td>Portugal</td>\n",
       "      <td>False</td>\n",
       "      <td>False</td>\n",
       "      <td>False</td>\n",
       "      <td>False</td>\n",
       "      <td>False</td>\n",
       "      <td>False</td>\n",
       "      <td>False</td>\n",
       "      <td>False</td>\n",
       "      <td>False</td>\n",
       "      <td>False</td>\n",
       "      <td>False</td>\n",
       "      <td>False</td>\n",
       "    </tr>\n",
       "    <tr>\n",
       "      <td>Romania</td>\n",
       "      <td>False</td>\n",
       "      <td>False</td>\n",
       "      <td>False</td>\n",
       "      <td>False</td>\n",
       "      <td>False</td>\n",
       "      <td>False</td>\n",
       "      <td>False</td>\n",
       "      <td>False</td>\n",
       "      <td>False</td>\n",
       "      <td>False</td>\n",
       "      <td>False</td>\n",
       "      <td>False</td>\n",
       "    </tr>\n",
       "    <tr>\n",
       "      <td>Serbia</td>\n",
       "      <td>False</td>\n",
       "      <td>False</td>\n",
       "      <td>False</td>\n",
       "      <td>False</td>\n",
       "      <td>False</td>\n",
       "      <td>False</td>\n",
       "      <td>False</td>\n",
       "      <td>False</td>\n",
       "      <td>False</td>\n",
       "      <td>False</td>\n",
       "      <td>False</td>\n",
       "      <td>False</td>\n",
       "    </tr>\n",
       "    <tr>\n",
       "      <td>Slovak Republic</td>\n",
       "      <td>False</td>\n",
       "      <td>False</td>\n",
       "      <td>False</td>\n",
       "      <td>False</td>\n",
       "      <td>False</td>\n",
       "      <td>False</td>\n",
       "      <td>False</td>\n",
       "      <td>False</td>\n",
       "      <td>False</td>\n",
       "      <td>False</td>\n",
       "      <td>False</td>\n",
       "      <td>False</td>\n",
       "    </tr>\n",
       "    <tr>\n",
       "      <td>Slovenia</td>\n",
       "      <td>False</td>\n",
       "      <td>False</td>\n",
       "      <td>False</td>\n",
       "      <td>False</td>\n",
       "      <td>False</td>\n",
       "      <td>True</td>\n",
       "      <td>True</td>\n",
       "      <td>True</td>\n",
       "      <td>False</td>\n",
       "      <td>False</td>\n",
       "      <td>False</td>\n",
       "      <td>True</td>\n",
       "    </tr>\n",
       "    <tr>\n",
       "      <td>Spain</td>\n",
       "      <td>False</td>\n",
       "      <td>False</td>\n",
       "      <td>False</td>\n",
       "      <td>False</td>\n",
       "      <td>False</td>\n",
       "      <td>False</td>\n",
       "      <td>False</td>\n",
       "      <td>False</td>\n",
       "      <td>True</td>\n",
       "      <td>True</td>\n",
       "      <td>True</td>\n",
       "      <td>True</td>\n",
       "    </tr>\n",
       "    <tr>\n",
       "      <td>Sweden</td>\n",
       "      <td>True</td>\n",
       "      <td>True</td>\n",
       "      <td>True</td>\n",
       "      <td>True</td>\n",
       "      <td>True</td>\n",
       "      <td>True</td>\n",
       "      <td>True</td>\n",
       "      <td>True</td>\n",
       "      <td>True</td>\n",
       "      <td>True</td>\n",
       "      <td>True</td>\n",
       "      <td>True</td>\n",
       "    </tr>\n",
       "    <tr>\n",
       "      <td>Switzerland</td>\n",
       "      <td>True</td>\n",
       "      <td>True</td>\n",
       "      <td>True</td>\n",
       "      <td>True</td>\n",
       "      <td>True</td>\n",
       "      <td>True</td>\n",
       "      <td>True</td>\n",
       "      <td>True</td>\n",
       "      <td>True</td>\n",
       "      <td>True</td>\n",
       "      <td>True</td>\n",
       "      <td>True</td>\n",
       "    </tr>\n",
       "    <tr>\n",
       "      <td>Turkey</td>\n",
       "      <td>False</td>\n",
       "      <td>False</td>\n",
       "      <td>False</td>\n",
       "      <td>False</td>\n",
       "      <td>False</td>\n",
       "      <td>False</td>\n",
       "      <td>False</td>\n",
       "      <td>False</td>\n",
       "      <td>False</td>\n",
       "      <td>False</td>\n",
       "      <td>False</td>\n",
       "      <td>False</td>\n",
       "    </tr>\n",
       "    <tr>\n",
       "      <td>United Kingdom</td>\n",
       "      <td>True</td>\n",
       "      <td>True</td>\n",
       "      <td>True</td>\n",
       "      <td>True</td>\n",
       "      <td>True</td>\n",
       "      <td>True</td>\n",
       "      <td>True</td>\n",
       "      <td>True</td>\n",
       "      <td>True</td>\n",
       "      <td>True</td>\n",
       "      <td>True</td>\n",
       "      <td>True</td>\n",
       "    </tr>\n",
       "  </tbody>\n",
       "</table>\n",
       "</div>"
      ],
      "text/plain": [
       "                        gdpPercap_1952  gdpPercap_1957  gdpPercap_1962  \\\n",
       "country                                                                  \n",
       "Albania                          False           False           False   \n",
       "Austria                           True            True            True   \n",
       "Belgium                           True            True            True   \n",
       "Bosnia and Herzegovina           False           False           False   \n",
       "Bulgaria                         False           False           False   \n",
       "Croatia                          False           False           False   \n",
       "Czech Republic                    True            True            True   \n",
       "Denmark                           True            True            True   \n",
       "Finland                           True            True            True   \n",
       "France                            True            True            True   \n",
       "Germany                           True            True            True   \n",
       "Greece                           False           False           False   \n",
       "Hungary                          False           False           False   \n",
       "Iceland                           True            True            True   \n",
       "Ireland                          False           False           False   \n",
       "Italy                            False           False           False   \n",
       "Montenegro                       False           False           False   \n",
       "Netherlands                       True            True            True   \n",
       "Norway                            True            True            True   \n",
       "Poland                           False           False           False   \n",
       "Portugal                         False           False           False   \n",
       "Romania                          False           False           False   \n",
       "Serbia                           False           False           False   \n",
       "Slovak Republic                  False           False           False   \n",
       "Slovenia                         False           False           False   \n",
       "Spain                            False           False           False   \n",
       "Sweden                            True            True            True   \n",
       "Switzerland                       True            True            True   \n",
       "Turkey                           False           False           False   \n",
       "United Kingdom                    True            True            True   \n",
       "\n",
       "                        gdpPercap_1967  gdpPercap_1972  gdpPercap_1977  \\\n",
       "country                                                                  \n",
       "Albania                          False           False           False   \n",
       "Austria                           True            True            True   \n",
       "Belgium                           True            True            True   \n",
       "Bosnia and Herzegovina           False           False           False   \n",
       "Bulgaria                         False           False           False   \n",
       "Croatia                          False           False           False   \n",
       "Czech Republic                    True            True            True   \n",
       "Denmark                           True            True            True   \n",
       "Finland                           True            True            True   \n",
       "France                            True            True            True   \n",
       "Germany                           True            True            True   \n",
       "Greece                           False            True           False   \n",
       "Hungary                          False           False           False   \n",
       "Iceland                           True            True            True   \n",
       "Ireland                          False           False           False   \n",
       "Italy                            False           False           False   \n",
       "Montenegro                       False           False           False   \n",
       "Netherlands                       True            True            True   \n",
       "Norway                            True            True            True   \n",
       "Poland                           False           False           False   \n",
       "Portugal                         False           False           False   \n",
       "Romania                          False           False           False   \n",
       "Serbia                           False           False           False   \n",
       "Slovak Republic                  False           False           False   \n",
       "Slovenia                         False           False            True   \n",
       "Spain                            False           False           False   \n",
       "Sweden                            True            True            True   \n",
       "Switzerland                       True            True            True   \n",
       "Turkey                           False           False           False   \n",
       "United Kingdom                    True            True            True   \n",
       "\n",
       "                        gdpPercap_1982  gdpPercap_1987  gdpPercap_1992  \\\n",
       "country                                                                  \n",
       "Albania                          False           False           False   \n",
       "Austria                           True            True            True   \n",
       "Belgium                           True            True            True   \n",
       "Bosnia and Herzegovina           False           False           False   \n",
       "Bulgaria                         False           False           False   \n",
       "Croatia                          False           False           False   \n",
       "Czech Republic                   False           False           False   \n",
       "Denmark                           True            True            True   \n",
       "Finland                           True            True            True   \n",
       "France                            True            True            True   \n",
       "Germany                           True            True            True   \n",
       "Greece                           False           False            True   \n",
       "Hungary                          False           False           False   \n",
       "Iceland                           True            True            True   \n",
       "Ireland                          False           False            True   \n",
       "Italy                             True            True            True   \n",
       "Montenegro                       False           False           False   \n",
       "Netherlands                       True            True            True   \n",
       "Norway                            True            True            True   \n",
       "Poland                           False           False           False   \n",
       "Portugal                         False           False           False   \n",
       "Romania                          False           False           False   \n",
       "Serbia                           False           False           False   \n",
       "Slovak Republic                  False           False           False   \n",
       "Slovenia                          True            True           False   \n",
       "Spain                            False           False            True   \n",
       "Sweden                            True            True            True   \n",
       "Switzerland                       True            True            True   \n",
       "Turkey                           False           False           False   \n",
       "United Kingdom                    True            True            True   \n",
       "\n",
       "                        gdpPercap_1997  gdpPercap_2002  gdpPercap_2007  \n",
       "country                                                                 \n",
       "Albania                          False           False           False  \n",
       "Austria                           True            True            True  \n",
       "Belgium                           True            True            True  \n",
       "Bosnia and Herzegovina           False           False           False  \n",
       "Bulgaria                         False           False           False  \n",
       "Croatia                          False           False           False  \n",
       "Czech Republic                   False           False           False  \n",
       "Denmark                           True            True            True  \n",
       "Finland                           True            True            True  \n",
       "France                            True            True            True  \n",
       "Germany                           True            True            True  \n",
       "Greece                           False            True            True  \n",
       "Hungary                          False           False           False  \n",
       "Iceland                           True            True            True  \n",
       "Ireland                           True            True            True  \n",
       "Italy                             True            True            True  \n",
       "Montenegro                       False           False           False  \n",
       "Netherlands                       True            True            True  \n",
       "Norway                            True            True            True  \n",
       "Poland                           False           False           False  \n",
       "Portugal                         False           False           False  \n",
       "Romania                          False           False           False  \n",
       "Serbia                           False           False           False  \n",
       "Slovak Republic                  False           False           False  \n",
       "Slovenia                         False           False            True  \n",
       "Spain                             True            True            True  \n",
       "Sweden                            True            True            True  \n",
       "Switzerland                       True            True            True  \n",
       "Turkey                           False           False           False  \n",
       "United Kingdom                    True            True            True  "
      ]
     },
     "execution_count": 100,
     "metadata": {},
     "output_type": "execute_result"
    }
   ],
   "source": [
    "mask_higher=data>data.mean()\n",
    "mask_higher"
   ]
  },
  {
   "cell_type": "code",
   "execution_count": 103,
   "metadata": {},
   "outputs": [],
   "source": [
    "wealth_score=mask_higher.aggregate('sum',axis=1)/len(data.columns)"
   ]
  },
  {
   "cell_type": "code",
   "execution_count": 105,
   "metadata": {},
   "outputs": [],
   "source": [
    "df=data.groupby(wealth_score).sum()"
   ]
  },
  {
   "cell_type": "code",
   "execution_count": 106,
   "metadata": {},
   "outputs": [],
   "source": [
    "df.to_csv('output/wealth_sum.csv')"
   ]
  },
  {
   "cell_type": "code",
   "execution_count": 109,
   "metadata": {},
   "outputs": [],
   "source": [
    "# %matplotlib inline\n",
    "import matplotlib.pyplot as plt"
   ]
  },
  {
   "cell_type": "code",
   "execution_count": 110,
   "metadata": {},
   "outputs": [
    {
     "data": {
      "image/png": "[encoded data removed]",
      "text/plain": [
       "<Figure size 432x288 with 1 Axes>"
      ]
     },
     "metadata": {
      "needs_background": "light"
     },
     "output_type": "display_data"
    }
   ],
   "source": [
    "time=[0,1,2,3]\n",
    "position=[0,100,200,300]\n",
    "plt.plot(time,position)\n",
    "plt.xlabel('Time (hr)')\n",
    "plt.ylabel('Position (km)')\n",
    "plt.show()"
   ]
  },
  {
   "cell_type": "code",
   "execution_count": 111,
   "metadata": {},
   "outputs": [
    {
     "name": "stdout",
     "output_type": "stream",
     "text": [
      "<class 'pandas.core.frame.DataFrame'>\n",
      "Index: 2 entries, Australia to New Zealand\n",
      "Data columns (total 12 columns):\n",
      "gdpPercap_1952    2 non-null float64\n",
      "gdpPercap_1957    2 non-null float64\n",
      "gdpPercap_1962    2 non-null float64\n",
      "gdpPercap_1967    2 non-null float64\n",
      "gdpPercap_1972    2 non-null float64\n",
      "gdpPercap_1977    2 non-null float64\n",
      "gdpPercap_1982    2 non-null float64\n",
      "gdpPercap_1987    2 non-null float64\n",
      "gdpPercap_1992    2 non-null float64\n",
      "gdpPercap_1997    2 non-null float64\n",
      "gdpPercap_2002    2 non-null float64\n",
      "gdpPercap_2007    2 non-null float64\n",
      "dtypes: float64(12)\n",
      "memory usage: 208.0+ bytes\n"
     ]
    }
   ],
   "source": [
    "data=pd.read_csv('data/gapminder_gdp_oceania.csv',index_col='country')\n",
    "data.info()"
   ]
  },
  {
   "cell_type": "code",
   "execution_count": 112,
   "metadata": {},
   "outputs": [],
   "source": [
    "years=data.columns.str.strip('gdpPercap_')\n",
    "data.columns=years.astype(int)"
   ]
  },
  {
   "cell_type": "code",
   "execution_count": 113,
   "metadata": {},
   "outputs": [
    {
     "data": {
      "text/html": [
       "<div>\n",
       "<style scoped>\n",
       "    .dataframe tbody tr th:only-of-type {\n",
       "        vertical-align: middle;\n",
       "    }\n",
       "\n",
       "    .dataframe tbody tr th {\n",
       "        vertical-align: top;\n",
       "    }\n",
       "\n",
       "    .dataframe thead th {\n",
       "        text-align: right;\n",
       "    }\n",
       "</style>\n",
       "<table border=\"1\" class=\"dataframe\">\n",
       "  <thead>\n",
       "    <tr style=\"text-align: right;\">\n",
       "      <th></th>\n",
       "      <th>1952</th>\n",
       "      <th>1957</th>\n",
       "      <th>1962</th>\n",
       "      <th>1967</th>\n",
       "      <th>1972</th>\n",
       "      <th>1977</th>\n",
       "      <th>1982</th>\n",
       "      <th>1987</th>\n",
       "      <th>1992</th>\n",
       "      <th>1997</th>\n",
       "      <th>2002</th>\n",
       "      <th>2007</th>\n",
       "    </tr>\n",
       "    <tr>\n",
       "      <th>country</th>\n",
       "      <th></th>\n",
       "      <th></th>\n",
       "      <th></th>\n",
       "      <th></th>\n",
       "      <th></th>\n",
       "      <th></th>\n",
       "      <th></th>\n",
       "      <th></th>\n",
       "      <th></th>\n",
       "      <th></th>\n",
       "      <th></th>\n",
       "      <th></th>\n",
       "    </tr>\n",
       "  </thead>\n",
       "  <tbody>\n",
       "    <tr>\n",
       "      <td>Australia</td>\n",
       "      <td>10039.59564</td>\n",
       "      <td>10949.64959</td>\n",
       "      <td>12217.22686</td>\n",
       "      <td>14526.12465</td>\n",
       "      <td>16788.62948</td>\n",
       "      <td>18334.19751</td>\n",
       "      <td>19477.00928</td>\n",
       "      <td>21888.88903</td>\n",
       "      <td>23424.76683</td>\n",
       "      <td>26997.93657</td>\n",
       "      <td>30687.75473</td>\n",
       "      <td>34435.36744</td>\n",
       "    </tr>\n",
       "    <tr>\n",
       "      <td>New Zealand</td>\n",
       "      <td>10556.57566</td>\n",
       "      <td>12247.39532</td>\n",
       "      <td>13175.67800</td>\n",
       "      <td>14463.91893</td>\n",
       "      <td>16046.03728</td>\n",
       "      <td>16233.71770</td>\n",
       "      <td>17632.41040</td>\n",
       "      <td>19007.19129</td>\n",
       "      <td>18363.32494</td>\n",
       "      <td>21050.41377</td>\n",
       "      <td>23189.80135</td>\n",
       "      <td>25185.00911</td>\n",
       "    </tr>\n",
       "  </tbody>\n",
       "</table>\n",
       "</div>"
      ],
      "text/plain": [
       "                    1952         1957         1962         1967         1972  \\\n",
       "country                                                                        \n",
       "Australia    10039.59564  10949.64959  12217.22686  14526.12465  16788.62948   \n",
       "New Zealand  10556.57566  12247.39532  13175.67800  14463.91893  16046.03728   \n",
       "\n",
       "                    1977         1982         1987         1992         1997  \\\n",
       "country                                                                        \n",
       "Australia    18334.19751  19477.00928  21888.88903  23424.76683  26997.93657   \n",
       "New Zealand  16233.71770  17632.41040  19007.19129  18363.32494  21050.41377   \n",
       "\n",
       "                    2002         2007  \n",
       "country                                \n",
       "Australia    30687.75473  34435.36744  \n",
       "New Zealand  23189.80135  25185.00911  "
      ]
     },
     "execution_count": 113,
     "metadata": {},
     "output_type": "execute_result"
    }
   ],
   "source": [
    "data"
   ]
  },
  {
   "cell_type": "code",
   "execution_count": 115,
   "metadata": {},
   "outputs": [
    {
     "data": {
      "text/plain": [
       "<matplotlib.axes._subplots.AxesSubplot at 0x20274ca4908>"
      ]
     },
     "execution_count": 115,
     "metadata": {},
     "output_type": "execute_result"
    },
    {
     "data": {
      "image/png": "[encoded data removed]",
      "text/plain": [
       "<Figure size 432x288 with 1 Axes>"
      ]
     },
     "metadata": {
      "needs_background": "light"
     },
     "output_type": "display_data"
    }
   ],
   "source": [
    "data.loc['Australia', :].plot()"
   ]
  },
  {
   "cell_type": "code",
   "execution_count": 117,
   "metadata": {},
   "outputs": [
    {
     "data": {
      "text/plain": [
       "Text(0, 0.5, 'GDP per capita')"
      ]
     },
     "execution_count": 117,
     "metadata": {},
     "output_type": "execute_result"
    },
    {
     "data": {
      "image/png": "[encoded data removed]",
      "text/plain": [
       "<Figure size 432x288 with 1 Axes>"
      ]
     },
     "metadata": {
      "needs_background": "light"
     },
     "output_type": "display_data"
    }
   ],
   "source": [
    "data.T.plot()\n",
    "plt.ylabel('GDP per capita')"
   ]
  },
  {
   "cell_type": "code",
   "execution_count": 119,
   "metadata": {},
   "outputs": [
    {
     "data": {
      "text/plain": [
       "<matplotlib.axes._subplots.AxesSubplot at 0x20276c79eb8>"
      ]
     },
     "execution_count": 119,
     "metadata": {},
     "output_type": "execute_result"
    },
    {
     "data": {
      "image/png": "[encoded data removed]",
      "text/plain": [
       "<Figure size 432x288 with 1 Axes>"
      ]
     },
     "metadata": {},
     "output_type": "display_data"
    }
   ],
   "source": [
    "plt.style.use('ggplot')\n",
    "data.T.plot(kind='bar')"
   ]
  },
  {
   "cell_type": "code",
   "execution_count": null,
   "metadata": {},
   "outputs": [],
   "source": []
  }
 ],
 "metadata": {
  "kernelspec": {
   "display_name": "Python 3",
   "language": "python",
   "name": "python3"
  },
  "language_info": {
   "codemirror_mode": {
    "name": "ipython",
    "version": 3
   },
   "file_extension": ".py",
   "mimetype": "text/x-python",
   "name": "python",
   "nbconvert_exporter": "python",
   "pygments_lexer": "ipython3",
   "version": "3.7.1"
  }
 },
 "nbformat": 4,
 "nbformat_minor": 2
}
